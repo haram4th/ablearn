{
 "cells": [
  {
   "cell_type": "markdown",
   "metadata": {
    "id": "XOmhYVEwXIcH"
   },
   "source": [
    "![alt text](https://lh3.googleusercontent.com/jS2nj0Ju7rvJJangnpFrnveoLlMAVc-Ee-k38WW3bRT1rpOooDKa8c3Uh2hZs5j6-XNc1ZFry07GtQTX8sYRpyZGgz8TZuBpGw75pAZqSKQRSfKA0Isy3I-222AHDlZa1WNAvFGmQLfeR4S96qK3agRN-br82Od1243W4uVZbFmbkZPykYy4_qDeE2UrbT1nVr8QZccLXjjtjiJRM8WQ_8eZFSRUBP1BMQg5AG6l7tdGXuWlQDmqFOFcDcEQE5ZX30N7TIcDSOiMWjp0gGZgtMfaR983h4NP8dUp-ej-Vo1D4FSpa_zTpjvKRrpbfnVir1LpIw0yC9OjD7aCMtLcul9Npe-voMkiJgz5XNvFatCgq5WmfcoaDDvkkEQZgp7LQoOqqprzvdItdiyWagMtCVQONtypoZhc2kQQkfav2M0sC9kG4AXDJ6nOlpi8iSbJSVVPKHN9wzGzN1gxo2dDtaua9VfHd5MTOWiRV6ArL6pzwzSzAPSAgUFZZhc4RHGzk5ChHsJBaO3gzvn8GF4Cr7P7GahgXEhw98u1Z0VlNqDmp37B4cUHm5dujBm7jQXGTvPqM5zuDHwiviFId6OMjcjW6xZNckM9_KM8opmUYN_RKP-YPs51qrz9NVksS73JOhHpBHtVQMDCFycT6ZSKv-zdwZN7_FW7=w2160-h856-no)"
   ]
  },
  {
   "cell_type": "markdown",
   "metadata": {
    "id": "YyKlzj5F1_kn"
   },
   "source": [
    "# Numpy란? \n",
    "<li>Numerical Python 과학적, 산업적 연산을 위한 파이썬 패키지</li>\n",
    "<li>다차원 배열, 행렬 연산에 사용</li>\n"
   ]
  },
  {
   "cell_type": "markdown",
   "metadata": {
    "id": "4MGaKf5s1_kp"
   },
   "source": [
    "# Numpy 설치\n",
    "<ol><li>아나콘다(Anaconda) 환경</li>\n",
    "<ul><li>conda install numpy</li></ul>\n",
    "<li>Colab/python 환경</li>\n",
    "<ul><li>pip install numpy</li></ul></ol>"
   ]
  },
  {
   "cell_type": "markdown",
   "metadata": {
    "id": "nQNyDGPw1_kr"
   },
   "source": [
    "# Numpy 불러오기"
   ]
  },
  {
   "cell_type": "code",
   "execution_count": 2,
   "metadata": {
    "executionInfo": {
     "elapsed": 282,
     "status": "ok",
     "timestamp": 1656981216218,
     "user": {
      "displayName": "황성민",
      "userId": "04059793346518192521"
     },
     "user_tz": -540
    },
    "id": "s5alsBAS1_ks",
    "vscode": {
     "languageId": "plaintext"
    }
   },
   "outputs": [],
   "source": [
    "import numpy as np"
   ]
  },
  {
   "cell_type": "markdown",
   "metadata": {
    "id": "SiOImnQV1_kt"
   },
   "source": [
    "# Python의 list와 Numpy array의 차이점\n",
    "<ol>\n",
    "<li>속도가 빠르다</li>\n",
    "<li>한 가지 형태의 데이터만 담을 수 있다</li>\n",
    "<li>메모리를 적게 사용한다.</li>\n",
    "</ol>"
   ]
  },
  {
   "cell_type": "markdown",
   "metadata": {
    "id": "CAA2H74j1_ku",
    "tags": []
   },
   "source": [
    "# Numpy는 언제 사용하는가?\n",
    "<li>숫자로 된 데이터를 처리할 때</li>\n",
    "<li>2차원 이상의 다차원 행렬을 계산 할 때</li>\n",
    "<li>고차원의 Deep Learning 연산을 처리할 때</li>"
   ]
  },
  {
   "cell_type": "markdown",
   "metadata": {
    "id": "HEhaCAjp1_kv"
   },
   "source": [
    "# Scalar, Vector/Array, Matrics/DataFrame, n-dimention ?"
   ]
  },
  {
   "cell_type": "markdown",
   "metadata": {
    "id": "5uAdk6KC1_kw"
   },
   "source": [
    "## Scalar: 단일 값 (점, 1차원)"
   ]
  },
  {
   "cell_type": "code",
   "execution_count": 3,
   "metadata": {
    "colab": {
     "base_uri": "https://localhost:8080/"
    },
    "executionInfo": {
     "elapsed": 6,
     "status": "ok",
     "timestamp": 1656981216578,
     "user": {
      "displayName": "황성민",
      "userId": "04059793346518192521"
     },
     "user_tz": -540
    },
    "id": "SS5KAaUZ1_kw",
    "outputId": "96f86515-6309-48ef-8568-381898309632"
   },
   "outputs": [
    {
     "name": "stdout",
     "output_type": "stream",
     "text": [
      "Scalar: 값, 1차원 10\n"
     ]
    },
    {
     "ename": "AttributeError",
     "evalue": "'int' object has no attribute 'ndim'",
     "output_type": "error",
     "traceback": [
      "\u001b[1;31m---------------------------------------------------------------------------\u001b[0m",
      "\u001b[1;31mAttributeError\u001b[0m                            Traceback (most recent call last)",
      "Input \u001b[1;32mIn [3]\u001b[0m, in \u001b[0;36m<cell line: 3>\u001b[1;34m()\u001b[0m\n\u001b[0;32m      1\u001b[0m a \u001b[38;5;241m=\u001b[39m \u001b[38;5;241m10\u001b[39m\n\u001b[0;32m      2\u001b[0m \u001b[38;5;28mprint\u001b[39m(\u001b[38;5;124m\"\u001b[39m\u001b[38;5;124mScalar: 값, 1차원\u001b[39m\u001b[38;5;124m\"\u001b[39m, a)\n\u001b[1;32m----> 3\u001b[0m \u001b[38;5;28mprint\u001b[39m(\u001b[38;5;124m\"\u001b[39m\u001b[38;5;124mScalar: 값, 1차원\u001b[39m\u001b[38;5;124m\"\u001b[39m, \u001b[43ma\u001b[49m\u001b[38;5;241;43m.\u001b[39;49m\u001b[43mndim\u001b[49m)\n",
      "\u001b[1;31mAttributeError\u001b[0m: 'int' object has no attribute 'ndim'"
     ]
    }
   ],
   "source": [
    "a = 10\n",
    "print(\"Scalar: 값, 1차원\", a)\n",
    "print(\"Scalar: 값, 1차원\", a.ndim)"
   ]
  },
  {
   "cell_type": "markdown",
   "metadata": {
    "id": "Kq4Gim4j1_kx"
   },
   "source": [
    "## Vector/Array: 방향이 있는 숫자들의 모임, 배열, Scalar의 모임 (선, 1차원)"
   ]
  },
  {
   "cell_type": "code",
   "execution_count": 4,
   "metadata": {
    "colab": {
     "base_uri": "https://localhost:8080/"
    },
    "executionInfo": {
     "elapsed": 5,
     "status": "ok",
     "timestamp": 1656981216578,
     "user": {
      "displayName": "황성민",
      "userId": "04059793346518192521"
     },
     "user_tz": -540
    },
    "id": "bm1QM_SI1_ky",
    "outputId": "4f7477fa-f52e-4954-f64a-ff77acab069f"
   },
   "outputs": [
    {
     "name": "stdout",
     "output_type": "stream",
     "text": [
      "[1 2 3 4]\n",
      "(4,)\n",
      "Scalar: 값, 1차원 1\n"
     ]
    }
   ],
   "source": [
    "b = np.array((1,2,3,4), int)\n",
    "print(b)\n",
    "print(b.shape)\n",
    "print(\"Scalar: 값, 1차원\", b.ndim)"
   ]
  },
  {
   "cell_type": "markdown",
   "metadata": {
    "id": "RvqoWN-b1_kz"
   },
   "source": [
    "# Matrics/DataFrame: Vector, Array의 모임 (면, 2차원)"
   ]
  },
  {
   "cell_type": "code",
   "execution_count": 5,
   "metadata": {
    "colab": {
     "base_uri": "https://localhost:8080/"
    },
    "executionInfo": {
     "elapsed": 4,
     "status": "ok",
     "timestamp": 1656981216578,
     "user": {
      "displayName": "황성민",
      "userId": "04059793346518192521"
     },
     "user_tz": -540
    },
    "id": "U6cN8Cya1_kz",
    "outputId": "c7a136a8-2be5-4005-e6b2-e74126577e57"
   },
   "outputs": [
    {
     "name": "stdout",
     "output_type": "stream",
     "text": [
      "[[1 2]\n",
      " [3 4]\n",
      " [5 6]]\n",
      "(3, 2)\n"
     ]
    }
   ],
   "source": [
    "c = np.array(np.arange(1,7))\n",
    "c = c.reshape([3,2])\n",
    "print(c)\n",
    "print(c.shape)"
   ]
  },
  {
   "cell_type": "markdown",
   "metadata": {
    "id": "d8e47Q_o1_k0"
   },
   "source": [
    "# n-dimention 다차원(입체, 3차원 이상)"
   ]
  },
  {
   "cell_type": "markdown",
   "metadata": {
    "id": "ZK9i0IDb1_k0"
   },
   "source": [
    "## 3차원 3D"
   ]
  },
  {
   "cell_type": "code",
   "execution_count": 6,
   "metadata": {
    "colab": {
     "base_uri": "https://localhost:8080/"
    },
    "executionInfo": {
     "elapsed": 370,
     "status": "ok",
     "timestamp": 1656981216946,
     "user": {
      "displayName": "황성민",
      "userId": "04059793346518192521"
     },
     "user_tz": -540
    },
    "id": "LHfiXiP51_k0",
    "outputId": "061ea671-7463-423f-b46b-7a586072075c"
   },
   "outputs": [
    {
     "name": "stdout",
     "output_type": "stream",
     "text": [
      "[[[1 2]\n",
      "  [3 4]]\n",
      "\n",
      " [[5 6]\n",
      "  [7 8]]]\n",
      "(2, 2, 2)\n"
     ]
    }
   ],
   "source": [
    "d = np.array(np.arange(1,9))\n",
    "d = d.reshape([2,2,2])\n",
    "print(d)\n",
    "print(d.shape)"
   ]
  },
  {
   "cell_type": "markdown",
   "metadata": {
    "id": "fr55_olW1_k1"
   },
   "source": [
    "![3D.jpg](data:image/jpeg;base64,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)"
   ]
  },
  {
   "cell_type": "markdown",
   "metadata": {
    "id": "ITSH5Q0l1_k1"
   },
   "source": [
    "## 4차원 4D"
   ]
  },
  {
   "cell_type": "code",
   "execution_count": 7,
   "metadata": {
    "colab": {
     "base_uri": "https://localhost:8080/"
    },
    "executionInfo": {
     "elapsed": 74,
     "status": "ok",
     "timestamp": 1656981216947,
     "user": {
      "displayName": "황성민",
      "userId": "04059793346518192521"
     },
     "user_tz": -540
    },
    "id": "FTrQtEWr1_k1",
    "outputId": "843ee455-d03d-4986-928d-d2a06f374b9d"
   },
   "outputs": [
    {
     "name": "stdout",
     "output_type": "stream",
     "text": [
      "[[[[ 1  2]\n",
      "   [ 3  4]]\n",
      "\n",
      "  [[ 5  6]\n",
      "   [ 7  8]]]\n",
      "\n",
      "\n",
      " [[[ 9 10]\n",
      "   [11 12]]\n",
      "\n",
      "  [[13 14]\n",
      "   [15 16]]]]\n",
      "(2, 2, 2, 2)\n"
     ]
    }
   ],
   "source": [
    "e = np.array(np.arange(1,17))\n",
    "e = e.reshape([2,2,2,2])\n",
    "print(e)\n",
    "print(e.shape)"
   ]
  },
  {
   "cell_type": "markdown",
   "metadata": {
    "id": "_xPK2DsK1_k2"
   },
   "source": [
    "![4D.jpg](data:image/jpeg;base64,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)"
   ]
  },
  {
   "cell_type": "markdown",
   "metadata": {
    "id": "F8Zrrf1v1_k2"
   },
   "source": [
    "## 5차원 5D"
   ]
  },
  {
   "cell_type": "code",
   "execution_count": 8,
   "metadata": {
    "colab": {
     "base_uri": "https://localhost:8080/"
    },
    "executionInfo": {
     "elapsed": 68,
     "status": "ok",
     "timestamp": 1656981216947,
     "user": {
      "displayName": "황성민",
      "userId": "04059793346518192521"
     },
     "user_tz": -540
    },
    "id": "3G84L4c-1_k2",
    "outputId": "fa062649-3a25-4f45-ed2b-f50c5bafb7a6"
   },
   "outputs": [
    {
     "name": "stdout",
     "output_type": "stream",
     "text": [
      "[[[[[ 1  2]\n",
      "    [ 3  4]]\n",
      "\n",
      "   [[ 5  6]\n",
      "    [ 7  8]]]\n",
      "\n",
      "\n",
      "  [[[ 9 10]\n",
      "    [11 12]]\n",
      "\n",
      "   [[13 14]\n",
      "    [15 16]]]]\n",
      "\n",
      "\n",
      "\n",
      " [[[[17 18]\n",
      "    [19 20]]\n",
      "\n",
      "   [[21 22]\n",
      "    [23 24]]]\n",
      "\n",
      "\n",
      "  [[[25 26]\n",
      "    [27 28]]\n",
      "\n",
      "   [[29 30]\n",
      "    [31 32]]]]]\n",
      "(2, 2, 2, 2, 2)\n"
     ]
    }
   ],
   "source": [
    "f = np.array(np.arange(1,33))\n",
    "f = f.reshape([2,2,2,2,2])\n",
    "print(f)\n",
    "print(f.shape)"
   ]
  },
  {
   "cell_type": "markdown",
   "metadata": {
    "id": "-BYEni5G1_k3"
   },
   "source": [
    "![5D.jpg](data:image/jpeg;base64,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)"
   ]
  },
  {
   "cell_type": "markdown",
   "metadata": {
    "id": "vF91Vona4jn7"
   },
   "source": [
    "## 6차원 6D"
   ]
  },
  {
   "cell_type": "code",
   "execution_count": 9,
   "metadata": {
    "colab": {
     "base_uri": "https://localhost:8080/"
    },
    "executionInfo": {
     "elapsed": 63,
     "status": "ok",
     "timestamp": 1656981216948,
     "user": {
      "displayName": "황성민",
      "userId": "04059793346518192521"
     },
     "user_tz": -540
    },
    "id": "ng1oKKuY1_k3",
    "outputId": "c8ef3f8d-ceb6-4dd6-97f7-68097e81ca8c"
   },
   "outputs": [
    {
     "name": "stdout",
     "output_type": "stream",
     "text": [
      "[[[[[[ 1  2]\n",
      "     [ 3  4]]\n",
      "\n",
      "    [[ 5  6]\n",
      "     [ 7  8]]]\n",
      "\n",
      "\n",
      "   [[[ 9 10]\n",
      "     [11 12]]\n",
      "\n",
      "    [[13 14]\n",
      "     [15 16]]]]\n",
      "\n",
      "\n",
      "\n",
      "  [[[[17 18]\n",
      "     [19 20]]\n",
      "\n",
      "    [[21 22]\n",
      "     [23 24]]]\n",
      "\n",
      "\n",
      "   [[[25 26]\n",
      "     [27 28]]\n",
      "\n",
      "    [[29 30]\n",
      "     [31 32]]]]]\n",
      "\n",
      "\n",
      "\n",
      "\n",
      " [[[[[33 34]\n",
      "     [35 36]]\n",
      "\n",
      "    [[37 38]\n",
      "     [39 40]]]\n",
      "\n",
      "\n",
      "   [[[41 42]\n",
      "     [43 44]]\n",
      "\n",
      "    [[45 46]\n",
      "     [47 48]]]]\n",
      "\n",
      "\n",
      "\n",
      "  [[[[49 50]\n",
      "     [51 52]]\n",
      "\n",
      "    [[53 54]\n",
      "     [55 56]]]\n",
      "\n",
      "\n",
      "   [[[57 58]\n",
      "     [59 60]]\n",
      "\n",
      "    [[61 62]\n",
      "     [63 64]]]]]]\n",
      "(2, 2, 2, 2, 2, 2)\n"
     ]
    }
   ],
   "source": [
    "g = np.array(np.arange(1,65))\n",
    "g = g.reshape([2,2,2,2,2,2])\n",
    "print(g)\n",
    "print(g.shape)"
   ]
  },
  {
   "cell_type": "markdown",
   "metadata": {
    "id": "m2rqQcHV1_k4"
   },
   "source": [
    "![6d.jpg](data:image/jpeg;base64,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)"
   ]
  },
  {
   "cell_type": "markdown",
   "metadata": {
    "id": "H5mOuSvx1_k4"
   },
   "source": [
    "# Numpy를 사용하는 이유: 행렬 연산이 쉽고 빠르다"
   ]
  },
  {
   "cell_type": "markdown",
   "metadata": {
    "id": "cfA71a-U1_k4"
   },
   "source": [
    "## Scalar연산 Python vs Numpy "
   ]
  },
  {
   "cell_type": "code",
   "execution_count": 10,
   "metadata": {
    "colab": {
     "base_uri": "https://localhost:8080/"
    },
    "executionInfo": {
     "elapsed": 58,
     "status": "ok",
     "timestamp": 1656981216948,
     "user": {
      "displayName": "황성민",
      "userId": "04059793346518192521"
     },
     "user_tz": -540
    },
    "id": "EshZKf6b1_k4",
    "outputId": "5eecd12a-d2f5-4cc8-9cf7-5639979233f7"
   },
   "outputs": [
    {
     "data": {
      "text/plain": [
       "11"
      ]
     },
     "execution_count": 10,
     "metadata": {},
     "output_type": "execute_result"
    }
   ],
   "source": [
    "scalar = a + 1\n",
    "scalar"
   ]
  },
  {
   "cell_type": "markdown",
   "metadata": {
    "id": "OsHMSMNA1_k4"
   },
   "source": [
    "## Vector연산 Python vs Numpy "
   ]
  },
  {
   "cell_type": "code",
   "execution_count": 11,
   "metadata": {
    "colab": {
     "base_uri": "https://localhost:8080/"
    },
    "executionInfo": {
     "elapsed": 53,
     "status": "ok",
     "timestamp": 1656981216949,
     "user": {
      "displayName": "황성민",
      "userId": "04059793346518192521"
     },
     "user_tz": -540
    },
    "id": "H6h22xic1_k5",
    "outputId": "4524572d-3fa5-49b4-da98-6f3fd416a034"
   },
   "outputs": [
    {
     "data": {
      "text/plain": [
       "array([1, 2, 3, 4])"
      ]
     },
     "execution_count": 11,
     "metadata": {},
     "output_type": "execute_result"
    }
   ],
   "source": [
    "b"
   ]
  },
  {
   "cell_type": "code",
   "execution_count": 12,
   "metadata": {
    "colab": {
     "base_uri": "https://localhost:8080/"
    },
    "executionInfo": {
     "elapsed": 46,
     "status": "ok",
     "timestamp": 1656981216949,
     "user": {
      "displayName": "황성민",
      "userId": "04059793346518192521"
     },
     "user_tz": -540
    },
    "id": "hPj4Izja1_k5",
    "outputId": "2711ee4e-b4c5-4237-8783-4f2d59fee370"
   },
   "outputs": [
    {
     "data": {
      "text/plain": [
       "[2, 3, 4, 5]"
      ]
     },
     "execution_count": 12,
     "metadata": {},
     "output_type": "execute_result"
    }
   ],
   "source": [
    "# Python에서 반복문을 사용해 각각의 값에 1을 더하고 합침\n",
    "vector_python = []\n",
    "for i in b:\n",
    "    temp = i + 1\n",
    "    vector_python.append(temp)\n",
    "vector_python\n",
    "    "
   ]
  },
  {
   "cell_type": "code",
   "execution_count": 13,
   "metadata": {
    "colab": {
     "base_uri": "https://localhost:8080/"
    },
    "executionInfo": {
     "elapsed": 42,
     "status": "ok",
     "timestamp": 1656981216950,
     "user": {
      "displayName": "황성민",
      "userId": "04059793346518192521"
     },
     "user_tz": -540
    },
    "id": "hDN569G91_k5",
    "outputId": "85a7ba6e-8873-46b3-e302-dc19965b9e99"
   },
   "outputs": [
    {
     "data": {
      "text/plain": [
       "[2, 3, 4, 5]"
      ]
     },
     "execution_count": 13,
     "metadata": {},
     "output_type": "execute_result"
    }
   ],
   "source": [
    "vector_python2 = [i + 1 for i in b] \n",
    "vector_python2"
   ]
  },
  {
   "cell_type": "code",
   "execution_count": 14,
   "metadata": {
    "colab": {
     "base_uri": "https://localhost:8080/"
    },
    "executionInfo": {
     "elapsed": 36,
     "status": "ok",
     "timestamp": 1656981216950,
     "user": {
      "displayName": "황성민",
      "userId": "04059793346518192521"
     },
     "user_tz": -540
    },
    "id": "lQI1wjtW1_k6",
    "outputId": "1e1656cb-9f25-433b-d3de-3b74e424a7a9"
   },
   "outputs": [
    {
     "data": {
      "text/plain": [
       "array([2, 3, 4, 5])"
      ]
     },
     "execution_count": 14,
     "metadata": {},
     "output_type": "execute_result"
    }
   ],
   "source": [
    "# numpy array에 1을 더함\n",
    "vector_numpy = b + 1\n",
    "vector_numpy"
   ]
  },
  {
   "cell_type": "markdown",
   "metadata": {
    "id": "cHGOPM9N1_k6"
   },
   "source": [
    "## Matrics/DataFrame연산 Python vs Numpy "
   ]
  },
  {
   "cell_type": "markdown",
   "metadata": {
    "id": "0BIUHh5JwWyH"
   },
   "source": [
    "### 2차원 행렬 연산"
   ]
  },
  {
   "cell_type": "code",
   "execution_count": 15,
   "metadata": {
    "colab": {
     "base_uri": "https://localhost:8080/"
    },
    "executionInfo": {
     "elapsed": 31,
     "status": "ok",
     "timestamp": 1656981216951,
     "user": {
      "displayName": "황성민",
      "userId": "04059793346518192521"
     },
     "user_tz": -540
    },
    "id": "UTPBY4Ke1_k6",
    "outputId": "7b00e52a-b18e-4b5a-964e-62628829ab16"
   },
   "outputs": [
    {
     "data": {
      "text/plain": [
       "array([[1, 2],\n",
       "       [3, 4],\n",
       "       [5, 6]])"
      ]
     },
     "execution_count": 15,
     "metadata": {},
     "output_type": "execute_result"
    }
   ],
   "source": [
    "c"
   ]
  },
  {
   "cell_type": "code",
   "execution_count": 16,
   "metadata": {
    "colab": {
     "base_uri": "https://localhost:8080/"
    },
    "executionInfo": {
     "elapsed": 26,
     "status": "ok",
     "timestamp": 1656981216951,
     "user": {
      "displayName": "황성민",
      "userId": "04059793346518192521"
     },
     "user_tz": -540
    },
    "id": "4G1ZPmO-1_k7",
    "outputId": "4e2ba025-c1f0-491b-cd5a-59acec190100"
   },
   "outputs": [
    {
     "data": {
      "text/plain": [
       "[[2, 3], [4, 5], [6, 7]]"
      ]
     },
     "execution_count": 16,
     "metadata": {},
     "output_type": "execute_result"
    }
   ],
   "source": [
    "# Python에서 반복문을 사용해 각각의 값에 1을 더하고 합침\n",
    "matrics_python = []\n",
    "for i in c:\n",
    "    col = []\n",
    "    for j in i:\n",
    "        temp = j + 1\n",
    "        col.append(temp)\n",
    "    matrics_python.append(col)\n",
    "matrics_python\n",
    "    "
   ]
  },
  {
   "cell_type": "code",
   "execution_count": 17,
   "metadata": {
    "colab": {
     "base_uri": "https://localhost:8080/"
    },
    "executionInfo": {
     "elapsed": 22,
     "status": "ok",
     "timestamp": 1656981216951,
     "user": {
      "displayName": "황성민",
      "userId": "04059793346518192521"
     },
     "user_tz": -540
    },
    "id": "0YbeHfiH1_k7",
    "outputId": "d42af0c5-02c2-4516-da1c-759bb7ca5a2a"
   },
   "outputs": [
    {
     "data": {
      "text/plain": [
       "array([[2, 3],\n",
       "       [4, 5],\n",
       "       [6, 7]])"
      ]
     },
     "execution_count": 17,
     "metadata": {},
     "output_type": "execute_result"
    }
   ],
   "source": [
    "c + 1"
   ]
  },
  {
   "cell_type": "code",
   "execution_count": 18,
   "metadata": {
    "colab": {
     "base_uri": "https://localhost:8080/"
    },
    "executionInfo": {
     "elapsed": 20,
     "status": "ok",
     "timestamp": 1656981216952,
     "user": {
      "displayName": "황성민",
      "userId": "04059793346518192521"
     },
     "user_tz": -540
    },
    "id": "FhewX3WpwRdY",
    "outputId": "a47f7572-c075-456f-8162-b14be5839b76"
   },
   "outputs": [
    {
     "data": {
      "text/plain": [
       "(3, 2)"
      ]
     },
     "execution_count": 18,
     "metadata": {},
     "output_type": "execute_result"
    }
   ],
   "source": [
    "c.shape"
   ]
  },
  {
   "cell_type": "markdown",
   "metadata": {
    "id": "WrbNXRgswefr"
   },
   "source": [
    "### 3차원 배열 연산"
   ]
  },
  {
   "cell_type": "code",
   "execution_count": 19,
   "metadata": {
    "colab": {
     "base_uri": "https://localhost:8080/"
    },
    "executionInfo": {
     "elapsed": 18,
     "status": "ok",
     "timestamp": 1656981216952,
     "user": {
      "displayName": "황성민",
      "userId": "04059793346518192521"
     },
     "user_tz": -540
    },
    "id": "cjiI5XcAtOEw",
    "outputId": "ef4c5378-5194-475b-f2e0-83fe79db747b"
   },
   "outputs": [
    {
     "data": {
      "text/plain": [
       "array([[[2, 3],\n",
       "        [4, 5]],\n",
       "\n",
       "       [[6, 7],\n",
       "        [8, 9]]])"
      ]
     },
     "execution_count": 19,
     "metadata": {},
     "output_type": "execute_result"
    }
   ],
   "source": [
    "# Python에서 반복문을 사용해 각각의 값에 1을 더하고 합침\n",
    "matrics_python = []\n",
    "for i in d:\n",
    "  col1 = []\n",
    "  for j in i:\n",
    "    col2 = []\n",
    "    for k in j:\n",
    "      temp = k + 1\n",
    "      col2.append(temp)\n",
    "    col1.append(col2)\n",
    "  matrics_python.append(col1)\n",
    "  \n",
    "np.array(matrics_python)\n",
    "    "
   ]
  },
  {
   "cell_type": "code",
   "execution_count": 20,
   "metadata": {
    "colab": {
     "base_uri": "https://localhost:8080/"
    },
    "executionInfo": {
     "elapsed": 17,
     "status": "ok",
     "timestamp": 1656981216953,
     "user": {
      "displayName": "황성민",
      "userId": "04059793346518192521"
     },
     "user_tz": -540
    },
    "id": "_Ge8-3xq1_k7",
    "outputId": "ab1feb68-6a60-4d0b-e0c4-a5e6ff2498fd"
   },
   "outputs": [
    {
     "data": {
      "text/plain": [
       "array([[[2, 3],\n",
       "        [4, 5]],\n",
       "\n",
       "       [[6, 7],\n",
       "        [8, 9]]])"
      ]
     },
     "execution_count": 20,
     "metadata": {},
     "output_type": "execute_result"
    }
   ],
   "source": [
    "d + 1"
   ]
  },
  {
   "cell_type": "code",
   "execution_count": 21,
   "metadata": {
    "colab": {
     "base_uri": "https://localhost:8080/"
    },
    "executionInfo": {
     "elapsed": 14,
     "status": "ok",
     "timestamp": 1656981216953,
     "user": {
      "displayName": "황성민",
      "userId": "04059793346518192521"
     },
     "user_tz": -540
    },
    "id": "ls3xzarqqHl-",
    "outputId": "59ef2198-eec5-42f1-895c-9f3a11906398"
   },
   "outputs": [
    {
     "data": {
      "text/plain": [
       "(2, 2, 2)"
      ]
     },
     "execution_count": 21,
     "metadata": {},
     "output_type": "execute_result"
    }
   ],
   "source": [
    "d.shape"
   ]
  },
  {
   "cell_type": "markdown",
   "metadata": {
    "id": "eSBrsxGZwnAN"
   },
   "source": [
    "### 4차원 배열 연산"
   ]
  },
  {
   "cell_type": "code",
   "execution_count": 22,
   "metadata": {
    "colab": {
     "base_uri": "https://localhost:8080/"
    },
    "executionInfo": {
     "elapsed": 304,
     "status": "ok",
     "timestamp": 1656981217245,
     "user": {
      "displayName": "황성민",
      "userId": "04059793346518192521"
     },
     "user_tz": -540
    },
    "id": "blYRaXZ61_k8",
    "outputId": "3d366c8c-3f1e-478f-b906-4b3ffc9b6421"
   },
   "outputs": [
    {
     "data": {
      "text/plain": [
       "array([[[[ 2,  3],\n",
       "         [ 4,  5]],\n",
       "\n",
       "        [[ 6,  7],\n",
       "         [ 8,  9]]],\n",
       "\n",
       "\n",
       "       [[[10, 11],\n",
       "         [12, 13]],\n",
       "\n",
       "        [[14, 15],\n",
       "         [16, 17]]]])"
      ]
     },
     "execution_count": 22,
     "metadata": {},
     "output_type": "execute_result"
    }
   ],
   "source": [
    "e + 1"
   ]
  },
  {
   "cell_type": "markdown",
   "metadata": {
    "id": "mtWu1XVzwsOk"
   },
   "source": [
    "### 5차원 배열 연산"
   ]
  },
  {
   "cell_type": "code",
   "execution_count": 23,
   "metadata": {
    "colab": {
     "base_uri": "https://localhost:8080/"
    },
    "executionInfo": {
     "elapsed": 15,
     "status": "ok",
     "timestamp": 1656981217245,
     "user": {
      "displayName": "황성민",
      "userId": "04059793346518192521"
     },
     "user_tz": -540
    },
    "id": "7HLfZTrqqTyO",
    "outputId": "efc0bd81-4590-4165-fb07-235fa0c370bf"
   },
   "outputs": [
    {
     "data": {
      "text/plain": [
       "(2, 2, 2, 2)"
      ]
     },
     "execution_count": 23,
     "metadata": {},
     "output_type": "execute_result"
    }
   ],
   "source": [
    "e.shape"
   ]
  },
  {
   "cell_type": "code",
   "execution_count": 24,
   "metadata": {
    "colab": {
     "base_uri": "https://localhost:8080/"
    },
    "executionInfo": {
     "elapsed": 13,
     "status": "ok",
     "timestamp": 1656981217246,
     "user": {
      "displayName": "황성민",
      "userId": "04059793346518192521"
     },
     "user_tz": -540
    },
    "id": "E3GnYyqX1_k8",
    "outputId": "3af2c1b4-080f-4b00-e656-336a915efa4f"
   },
   "outputs": [
    {
     "data": {
      "text/plain": [
       "array([[[[[ 2,  3],\n",
       "          [ 4,  5]],\n",
       "\n",
       "         [[ 6,  7],\n",
       "          [ 8,  9]]],\n",
       "\n",
       "\n",
       "        [[[10, 11],\n",
       "          [12, 13]],\n",
       "\n",
       "         [[14, 15],\n",
       "          [16, 17]]]],\n",
       "\n",
       "\n",
       "\n",
       "       [[[[18, 19],\n",
       "          [20, 21]],\n",
       "\n",
       "         [[22, 23],\n",
       "          [24, 25]]],\n",
       "\n",
       "\n",
       "        [[[26, 27],\n",
       "          [28, 29]],\n",
       "\n",
       "         [[30, 31],\n",
       "          [32, 33]]]]])"
      ]
     },
     "execution_count": 24,
     "metadata": {},
     "output_type": "execute_result"
    }
   ],
   "source": [
    "f + 1"
   ]
  },
  {
   "cell_type": "code",
   "execution_count": 25,
   "metadata": {
    "colab": {
     "base_uri": "https://localhost:8080/"
    },
    "executionInfo": {
     "elapsed": 11,
     "status": "ok",
     "timestamp": 1656981217247,
     "user": {
      "displayName": "황성민",
      "userId": "04059793346518192521"
     },
     "user_tz": -540
    },
    "id": "eP5KD4LIrOZp",
    "outputId": "79457142-71d8-4a5c-c7d7-4c68ed20ce96"
   },
   "outputs": [
    {
     "data": {
      "text/plain": [
       "(2, 2, 2, 2, 2)"
      ]
     },
     "execution_count": 25,
     "metadata": {},
     "output_type": "execute_result"
    }
   ],
   "source": [
    "f.shape"
   ]
  },
  {
   "cell_type": "markdown",
   "metadata": {
    "executionInfo": {
     "elapsed": 8,
     "status": "ok",
     "timestamp": 1656981217247,
     "user": {
      "displayName": "황성민",
      "userId": "04059793346518192521"
     },
     "user_tz": -540
    },
    "id": "r1ujnHoKrMcJ"
   },
   "source": [
    "# Numpy 기본 사용법"
   ]
  },
  {
   "cell_type": "markdown",
   "metadata": {},
   "source": [
    "## 1) ndarray의 차원, 형태, 크기, 데이터 타입 보기\n",
    "* .ndim: 차원이 몇 개인지 확인\n",
    "* .shpae: 몇 차원, 몇 행 몇 열로 되어 있는지 \n",
    "* .size: 배열 안에 있는 요소의 총 갯수가 몇 개인지\n",
    "* .dtyte: 데이터 타입은 무엇인지\n",
    "* .itemsize: 1개 자료의 크기는 몇인지"
   ]
  },
  {
   "cell_type": "code",
   "execution_count": 26,
   "metadata": {},
   "outputs": [
    {
     "data": {
      "text/plain": [
       "array([ 0,  1,  2,  3,  4,  5,  6,  7,  8,  9, 10, 11, 12, 13, 14])"
      ]
     },
     "execution_count": 26,
     "metadata": {},
     "output_type": "execute_result"
    }
   ],
   "source": [
    "a = np.arange(15)\n",
    "a"
   ]
  },
  {
   "cell_type": "code",
   "execution_count": 27,
   "metadata": {},
   "outputs": [
    {
     "data": {
      "text/plain": [
       "array([[ 0,  1,  2,  3,  4],\n",
       "       [ 5,  6,  7,  8,  9],\n",
       "       [10, 11, 12, 13, 14]])"
      ]
     },
     "execution_count": 27,
     "metadata": {},
     "output_type": "execute_result"
    }
   ],
   "source": [
    "a.reshape(3, 5)"
   ]
  },
  {
   "cell_type": "code",
   "execution_count": 28,
   "metadata": {},
   "outputs": [
    {
     "data": {
      "text/plain": [
       "1"
      ]
     },
     "execution_count": 28,
     "metadata": {},
     "output_type": "execute_result"
    }
   ],
   "source": [
    "a.ndim"
   ]
  },
  {
   "cell_type": "code",
   "execution_count": 29,
   "metadata": {},
   "outputs": [
    {
     "data": {
      "text/plain": [
       "2"
      ]
     },
     "execution_count": 29,
     "metadata": {},
     "output_type": "execute_result"
    }
   ],
   "source": [
    "a = a.reshape(3,5)\n",
    "a.ndim"
   ]
  },
  {
   "cell_type": "code",
   "execution_count": 30,
   "metadata": {
    "executionInfo": {
     "elapsed": 8,
     "status": "ok",
     "timestamp": 1656981217248,
     "user": {
      "displayName": "황성민",
      "userId": "04059793346518192521"
     },
     "user_tz": -540
    },
    "id": "CPO1dUAk1_k8",
    "scrolled": true
   },
   "outputs": [
    {
     "data": {
      "text/plain": [
       "(3, 5)"
      ]
     },
     "execution_count": 30,
     "metadata": {},
     "output_type": "execute_result"
    }
   ],
   "source": [
    "a.shape"
   ]
  },
  {
   "cell_type": "code",
   "execution_count": 31,
   "metadata": {},
   "outputs": [
    {
     "data": {
      "text/plain": [
       "15"
      ]
     },
     "execution_count": 31,
     "metadata": {},
     "output_type": "execute_result"
    }
   ],
   "source": [
    "a.size"
   ]
  },
  {
   "cell_type": "code",
   "execution_count": 32,
   "metadata": {},
   "outputs": [
    {
     "data": {
      "text/plain": [
       "dtype('int32')"
      ]
     },
     "execution_count": 32,
     "metadata": {},
     "output_type": "execute_result"
    }
   ],
   "source": [
    "a.dtype"
   ]
  },
  {
   "cell_type": "code",
   "execution_count": 33,
   "metadata": {},
   "outputs": [
    {
     "data": {
      "text/plain": [
       "4"
      ]
     },
     "execution_count": 33,
     "metadata": {},
     "output_type": "execute_result"
    }
   ],
   "source": [
    "a.itemsize"
   ]
  },
  {
   "cell_type": "code",
   "execution_count": 34,
   "metadata": {
    "scrolled": true
   },
   "outputs": [
    {
     "name": "stdout",
     "output_type": "stream",
     "text": [
      "<class 'numpy.ndarray'>\n"
     ]
    }
   ],
   "source": [
    "print(type(a))"
   ]
  },
  {
   "cell_type": "markdown",
   "metadata": {},
   "source": [
    "## 2) ndarray 만들기\n",
    "* np.array(리스트 or 튜플)"
   ]
  },
  {
   "cell_type": "markdown",
   "metadata": {},
   "source": [
    "### (1) 리스트로 ndarray만들기"
   ]
  },
  {
   "cell_type": "code",
   "execution_count": 35,
   "metadata": {
    "scrolled": true
   },
   "outputs": [
    {
     "data": {
      "text/plain": [
       "array([2, 3, 4])"
      ]
     },
     "execution_count": 35,
     "metadata": {},
     "output_type": "execute_result"
    }
   ],
   "source": [
    "a = np.array([2, 3, 4])\n",
    "a"
   ]
  },
  {
   "cell_type": "code",
   "execution_count": 36,
   "metadata": {},
   "outputs": [
    {
     "data": {
      "text/plain": [
       "dtype('int32')"
      ]
     },
     "execution_count": 36,
     "metadata": {},
     "output_type": "execute_result"
    }
   ],
   "source": [
    "a.dtype"
   ]
  },
  {
   "cell_type": "markdown",
   "metadata": {},
   "source": [
    "### (2) 튜플로 ndarray 만들기"
   ]
  },
  {
   "cell_type": "code",
   "execution_count": 37,
   "metadata": {},
   "outputs": [
    {
     "data": {
      "text/plain": [
       "array([1.2, 3.5, 5.1])"
      ]
     },
     "execution_count": 37,
     "metadata": {},
     "output_type": "execute_result"
    }
   ],
   "source": [
    "b = np.array((1.2, 3.5, 5.1))\n",
    "b"
   ]
  },
  {
   "cell_type": "code",
   "execution_count": 38,
   "metadata": {},
   "outputs": [
    {
     "data": {
      "text/plain": [
       "dtype('float64')"
      ]
     },
     "execution_count": 38,
     "metadata": {},
     "output_type": "execute_result"
    }
   ],
   "source": [
    "b.dtype"
   ]
  },
  {
   "cell_type": "code",
   "execution_count": 39,
   "metadata": {},
   "outputs": [
    {
     "ename": "TypeError",
     "evalue": "array() takes from 1 to 2 positional arguments but 4 were given",
     "output_type": "error",
     "traceback": [
      "\u001b[1;31m---------------------------------------------------------------------------\u001b[0m",
      "\u001b[1;31mTypeError\u001b[0m                                 Traceback (most recent call last)",
      "Input \u001b[1;32mIn [39]\u001b[0m, in \u001b[0;36m<cell line: 1>\u001b[1;34m()\u001b[0m\n\u001b[1;32m----> 1\u001b[0m c \u001b[38;5;241m=\u001b[39m \u001b[43mnp\u001b[49m\u001b[38;5;241;43m.\u001b[39;49m\u001b[43marray\u001b[49m\u001b[43m(\u001b[49m\u001b[38;5;241;43m1\u001b[39;49m\u001b[43m,\u001b[49m\u001b[43m \u001b[49m\u001b[38;5;241;43m2\u001b[39;49m\u001b[43m,\u001b[49m\u001b[43m \u001b[49m\u001b[38;5;241;43m3\u001b[39;49m\u001b[43m,\u001b[49m\u001b[43m \u001b[49m\u001b[38;5;241;43m4\u001b[39;49m\u001b[43m)\u001b[49m\n",
      "\u001b[1;31mTypeError\u001b[0m: array() takes from 1 to 2 positional arguments but 4 were given"
     ]
    }
   ],
   "source": [
    "c = np.array(1, 2, 3, 4)  # array를 만들 때는 반드시 리스트나 튜플로 만들어야 한다."
   ]
  },
  {
   "cell_type": "code",
   "execution_count": 40,
   "metadata": {},
   "outputs": [
    {
     "data": {
      "text/plain": [
       "array([1, 2, 3, 4])"
      ]
     },
     "execution_count": 40,
     "metadata": {},
     "output_type": "execute_result"
    }
   ],
   "source": [
    "c = np.array([1, 2, 3, 4])\n",
    "c"
   ]
  },
  {
   "cell_type": "markdown",
   "metadata": {},
   "source": [
    "### (3) .zeros, .ones, .empty\n",
    "* .zeros((행, 열)): 모든 값이 0으로 채워진 행렬을 만든다.\n",
    "* .ones((행, 열)): 모든 값이 1로 채워진 행렬을 만든다.\n",
    "* .empty((행, 렬)): 임의의 수로 채워진 행렬을 만든다."
   ]
  },
  {
   "cell_type": "code",
   "execution_count": 41,
   "metadata": {},
   "outputs": [
    {
     "data": {
      "text/plain": [
       "array([[0., 0., 0., 0.],\n",
       "       [0., 0., 0., 0.],\n",
       "       [0., 0., 0., 0.]])"
      ]
     },
     "execution_count": 41,
     "metadata": {},
     "output_type": "execute_result"
    }
   ],
   "source": [
    "# 3행 4열의 0으로 채워진 행렬을 만듬\n",
    "np.zeros((3,4)) "
   ]
  },
  {
   "cell_type": "code",
   "execution_count": 42,
   "metadata": {},
   "outputs": [
    {
     "data": {
      "text/plain": [
       "array([[[1, 1, 1, 1],\n",
       "        [1, 1, 1, 1],\n",
       "        [1, 1, 1, 1]],\n",
       "\n",
       "       [[1, 1, 1, 1],\n",
       "        [1, 1, 1, 1],\n",
       "        [1, 1, 1, 1]]], dtype=int16)"
      ]
     },
     "execution_count": 42,
     "metadata": {},
     "output_type": "execute_result"
    }
   ],
   "source": [
    "# 3행 4열의 행렬을 2개 가진 값이 1로 채워진 3차원 행렬. 데이터타입은 int16\n",
    "np.ones((2,3,4), dtype=np.int16) "
   ]
  },
  {
   "cell_type": "code",
   "execution_count": 43,
   "metadata": {},
   "outputs": [
    {
     "data": {
      "text/plain": [
       "array([[0., 0., 0.],\n",
       "       [0., 0., 0.]])"
      ]
     },
     "execution_count": 43,
     "metadata": {},
     "output_type": "execute_result"
    }
   ],
   "source": [
    "np.empty((2,3))"
   ]
  },
  {
   "cell_type": "markdown",
   "metadata": {},
   "source": [
    "### (4) 특정 숫자 범위의 1차원 배열을 만들때\n",
    "* np.arange(시작, 끝-1, 증가량)"
   ]
  },
  {
   "cell_type": "code",
   "execution_count": 44,
   "metadata": {},
   "outputs": [
    {
     "data": {
      "text/plain": [
       "array([10, 11, 12, 13, 14, 15, 16, 17, 18, 19, 20, 21, 22, 23, 24, 25, 26,\n",
       "       27, 28, 29])"
      ]
     },
     "execution_count": 44,
     "metadata": {},
     "output_type": "execute_result"
    }
   ],
   "source": [
    "# 10~29까지 1씩 증가 \n",
    "np.arange(10, 30, 1)"
   ]
  },
  {
   "cell_type": "code",
   "execution_count": 45,
   "metadata": {},
   "outputs": [
    {
     "data": {
      "text/plain": [
       "array([10, 15, 20, 25])"
      ]
     },
     "execution_count": 45,
     "metadata": {},
     "output_type": "execute_result"
    }
   ],
   "source": [
    "# 10~29까지 5씩 증가 \n",
    "np.arange(10, 30, 5)"
   ]
  },
  {
   "cell_type": "code",
   "execution_count": 46,
   "metadata": {},
   "outputs": [
    {
     "data": {
      "text/plain": [
       "array([0. , 0.1, 0.2, 0.3, 0.4, 0.5, 0.6, 0.7, 0.8, 0.9, 1. , 1.1, 1.2,\n",
       "       1.3, 1.4, 1.5, 1.6, 1.7, 1.8, 1.9])"
      ]
     },
     "execution_count": 46,
     "metadata": {},
     "output_type": "execute_result"
    }
   ],
   "source": [
    "# 0~1.9까지 0.1씩 증가\n",
    "np.arange(0, 2, 0.1)"
   ]
  },
  {
   "cell_type": "code",
   "execution_count": 47,
   "metadata": {},
   "outputs": [
    {
     "data": {
      "text/plain": [
       "array([0. , 0.3, 0.6, 0.9, 1.2, 1.5, 1.8])"
      ]
     },
     "execution_count": 47,
     "metadata": {},
     "output_type": "execute_result"
    }
   ],
   "source": [
    "# 0~1.9까지 0.1씩 증가\n",
    "np.arange(0, 2, 0.3)"
   ]
  },
  {
   "cell_type": "markdown",
   "metadata": {},
   "source": [
    "### (5)정해진 숫자 범위 않에서 균등하게 구간을 나눌 때\n",
    "* np.linespace(시작, 끝, 구간갯수)"
   ]
  },
  {
   "cell_type": "code",
   "execution_count": 48,
   "metadata": {},
   "outputs": [
    {
     "data": {
      "text/plain": [
       "array([0.  , 0.25, 0.5 , 0.75, 1.  , 1.25, 1.5 , 1.75, 2.  ])"
      ]
     },
     "execution_count": 48,
     "metadata": {},
     "output_type": "execute_result"
    }
   ],
   "source": [
    "from numpy import pi\n",
    "np.linspace(0, 2, 9)"
   ]
  },
  {
   "cell_type": "markdown",
   "metadata": {},
   "source": [
    "### (6) 정방단위행렬 만들기 (n x n 형태)\n",
    "* .identity()"
   ]
  },
  {
   "cell_type": "code",
   "execution_count": 175,
   "metadata": {},
   "outputs": [
    {
     "data": {
      "text/plain": [
       "array([[1., 0.],\n",
       "       [0., 1.]])"
      ]
     },
     "execution_count": 175,
     "metadata": {},
     "output_type": "execute_result"
    }
   ],
   "source": [
    "np.identity(2)"
   ]
  },
  {
   "cell_type": "code",
   "execution_count": 176,
   "metadata": {},
   "outputs": [
    {
     "data": {
      "text/plain": [
       "array([[1, 0, 0],\n",
       "       [0, 1, 0],\n",
       "       [0, 0, 1]])"
      ]
     },
     "execution_count": 176,
     "metadata": {},
     "output_type": "execute_result"
    }
   ],
   "source": [
    "np.identity(3, dtype=int)"
   ]
  },
  {
   "cell_type": "code",
   "execution_count": 177,
   "metadata": {},
   "outputs": [
    {
     "data": {
      "text/plain": [
       "array([[1, 0, 0, 0, 0],\n",
       "       [0, 1, 0, 0, 0],\n",
       "       [0, 0, 1, 0, 0],\n",
       "       [0, 0, 0, 1, 0],\n",
       "       [0, 0, 0, 0, 1]])"
      ]
     },
     "execution_count": 177,
     "metadata": {},
     "output_type": "execute_result"
    }
   ],
   "source": [
    "np.identity(5, dtype=int)"
   ]
  },
  {
   "cell_type": "markdown",
   "metadata": {},
   "source": [
    "### (7) eye로 대각 행렬 만들기\n",
    "* .eye(n, k=\"대각행렬 표시 열\", dtype = 데이터형)"
   ]
  },
  {
   "cell_type": "code",
   "execution_count": 178,
   "metadata": {},
   "outputs": [
    {
     "data": {
      "text/plain": [
       "array([[1., 0., 0., 0., 0.],\n",
       "       [0., 1., 0., 0., 0.],\n",
       "       [0., 0., 1., 0., 0.],\n",
       "       [0., 0., 0., 1., 0.],\n",
       "       [0., 0., 0., 0., 1.]])"
      ]
     },
     "execution_count": 178,
     "metadata": {},
     "output_type": "execute_result"
    }
   ],
   "source": [
    "np.eye(5)"
   ]
  },
  {
   "cell_type": "code",
   "execution_count": 179,
   "metadata": {},
   "outputs": [
    {
     "data": {
      "text/plain": [
       "array([[0., 1., 0., 0., 0.],\n",
       "       [0., 0., 1., 0., 0.],\n",
       "       [0., 0., 0., 1., 0.],\n",
       "       [0., 0., 0., 0., 1.],\n",
       "       [0., 0., 0., 0., 0.]])"
      ]
     },
     "execution_count": 179,
     "metadata": {},
     "output_type": "execute_result"
    }
   ],
   "source": [
    "np.eye(5, k=1)"
   ]
  },
  {
   "cell_type": "code",
   "execution_count": 180,
   "metadata": {},
   "outputs": [
    {
     "data": {
      "text/plain": [
       "array([[0., 0., 1., 0., 0.],\n",
       "       [0., 0., 0., 1., 0.],\n",
       "       [0., 0., 0., 0., 1.],\n",
       "       [0., 0., 0., 0., 0.],\n",
       "       [0., 0., 0., 0., 0.]])"
      ]
     },
     "execution_count": 180,
     "metadata": {},
     "output_type": "execute_result"
    }
   ],
   "source": [
    "np.eye(5, k=2)"
   ]
  },
  {
   "cell_type": "code",
   "execution_count": 181,
   "metadata": {},
   "outputs": [
    {
     "data": {
      "text/plain": [
       "array([[0., 0., 0., 0., 0.],\n",
       "       [1., 0., 0., 0., 0.],\n",
       "       [0., 1., 0., 0., 0.],\n",
       "       [0., 0., 1., 0., 0.],\n",
       "       [0., 0., 0., 1., 0.]])"
      ]
     },
     "execution_count": 181,
     "metadata": {},
     "output_type": "execute_result"
    }
   ],
   "source": [
    "np.eye(5, k=-1)"
   ]
  },
  {
   "cell_type": "code",
   "execution_count": 182,
   "metadata": {},
   "outputs": [
    {
     "data": {
      "text/plain": [
       "array([[0., 0., 0., 0., 0.],\n",
       "       [0., 0., 0., 0., 0.],\n",
       "       [1., 0., 0., 0., 0.],\n",
       "       [0., 1., 0., 0., 0.],\n",
       "       [0., 0., 1., 0., 0.]])"
      ]
     },
     "execution_count": 182,
     "metadata": {},
     "output_type": "execute_result"
    }
   ],
   "source": [
    "np.eye(5, k=-2)"
   ]
  },
  {
   "cell_type": "markdown",
   "metadata": {},
   "source": [
    "### (8) ndarray print하기"
   ]
  },
  {
   "cell_type": "code",
   "execution_count": 49,
   "metadata": {},
   "outputs": [
    {
     "name": "stdout",
     "output_type": "stream",
     "text": [
      "[0 1 2 3 4 5]\n"
     ]
    }
   ],
   "source": [
    "# 1차원 배열로 프린트\n",
    "a = np.arange(6)\n",
    "print(a)"
   ]
  },
  {
   "cell_type": "code",
   "execution_count": 50,
   "metadata": {},
   "outputs": [
    {
     "name": "stdout",
     "output_type": "stream",
     "text": [
      "[[ 0  1  2]\n",
      " [ 3  4  5]\n",
      " [ 6  7  8]\n",
      " [ 9 10 11]]\n"
     ]
    }
   ],
   "source": [
    "# 2차원 배열로 프린트\n",
    "b = np.arange(12).reshape(4, 3)\n",
    "print(b)"
   ]
  },
  {
   "cell_type": "code",
   "execution_count": 51,
   "metadata": {},
   "outputs": [
    {
     "name": "stdout",
     "output_type": "stream",
     "text": [
      "[[[ 0  1  2  3]\n",
      "  [ 4  5  6  7]\n",
      "  [ 8  9 10 11]]\n",
      "\n",
      " [[12 13 14 15]\n",
      "  [16 17 18 19]\n",
      "  [20 21 22 23]]]\n"
     ]
    }
   ],
   "source": [
    "# 3차원 배열로 프린트 3행 4열 행열이 2개\n",
    "c = np.arange(24).reshape(2, 3, 4)\n",
    "print(c)"
   ]
  },
  {
   "cell_type": "code",
   "execution_count": 52,
   "metadata": {},
   "outputs": [
    {
     "name": "stdout",
     "output_type": "stream",
     "text": [
      "[[[[ 0  1  2  3]\n",
      "   [ 4  5  6  7]\n",
      "   [ 8  9 10 11]]\n",
      "\n",
      "  [[12 13 14 15]\n",
      "   [16 17 18 19]\n",
      "   [20 21 22 23]]]\n",
      "\n",
      "\n",
      " [[[24 25 26 27]\n",
      "   [28 29 30 31]\n",
      "   [32 33 34 35]]\n",
      "\n",
      "  [[36 37 38 39]\n",
      "   [40 41 42 43]\n",
      "   [44 45 46 47]]]]\n"
     ]
    }
   ],
   "source": [
    "# 4차원 배열로 프린트 3행 4열 행열이 2개인 배열이 2개 \n",
    "d = np.arange(48).reshape(2, 2, 3, 4)\n",
    "print(d)"
   ]
  },
  {
   "cell_type": "markdown",
   "metadata": {},
   "source": [
    "### (9) 배열이 너무 커서 프린트하기 어려울 때는 중간을 생략하고 처음과 끝 일부만 보여줌"
   ]
  },
  {
   "cell_type": "code",
   "execution_count": 53,
   "metadata": {
    "scrolled": true
   },
   "outputs": [
    {
     "name": "stdout",
     "output_type": "stream",
     "text": [
      "[   0    1    2 ... 9997 9998 9999]\n"
     ]
    }
   ],
   "source": [
    "\n",
    "print(np.arange(10000))"
   ]
  },
  {
   "cell_type": "code",
   "execution_count": 54,
   "metadata": {},
   "outputs": [
    {
     "name": "stdout",
     "output_type": "stream",
     "text": [
      "[[   0    1    2 ...   97   98   99]\n",
      " [ 100  101  102 ...  197  198  199]\n",
      " [ 200  201  202 ...  297  298  299]\n",
      " ...\n",
      " [9700 9701 9702 ... 9797 9798 9799]\n",
      " [9800 9801 9802 ... 9897 9898 9899]\n",
      " [9900 9901 9902 ... 9997 9998 9999]]\n"
     ]
    }
   ],
   "source": [
    "print(np.arange(10000).reshape(100, 100))"
   ]
  },
  {
   "cell_type": "markdown",
   "metadata": {},
   "source": [
    "### (10) 생략없이 모두 보고 싶을 때\n",
    "* import sys\n",
    "* np.set_printoptions(threshold = sys.maxsize)"
   ]
  },
  {
   "cell_type": "code",
   "execution_count": 55,
   "metadata": {},
   "outputs": [],
   "source": [
    "import sys\n",
    "np.set_printoptions(threshold = sys.maxsize)"
   ]
  },
  {
   "cell_type": "code",
   "execution_count": 56,
   "metadata": {},
   "outputs": [],
   "source": [
    "# print(np.arange(10000).reshape(100, 100))"
   ]
  },
  {
   "cell_type": "markdown",
   "metadata": {},
   "source": [
    "# 3) 요소 추가, 삭제, 정렬하기\n",
    "* np.sort(), np.concatenate()"
   ]
  },
  {
   "cell_type": "markdown",
   "metadata": {},
   "source": [
    "### (1) 요소 정렬하기 np.sort()"
   ]
  },
  {
   "cell_type": "code",
   "execution_count": 57,
   "metadata": {},
   "outputs": [
    {
     "data": {
      "text/plain": [
       "array([2, 1, 5, 6, 7, 4, 6, 8])"
      ]
     },
     "execution_count": 57,
     "metadata": {},
     "output_type": "execute_result"
    }
   ],
   "source": [
    "arr = np.array([2, 1, 5, 6, 7, 4, 6, 8])\n",
    "arr"
   ]
  },
  {
   "cell_type": "code",
   "execution_count": 58,
   "metadata": {},
   "outputs": [
    {
     "data": {
      "text/plain": [
       "array([1, 2, 4, 5, 6, 6, 7, 8])"
      ]
     },
     "execution_count": 58,
     "metadata": {},
     "output_type": "execute_result"
    }
   ],
   "source": [
    "np.sort(arr)"
   ]
  },
  {
   "cell_type": "code",
   "execution_count": 59,
   "metadata": {},
   "outputs": [
    {
     "data": {
      "text/plain": [
       "array([2, 1, 5, 6, 7, 4, 6, 8])"
      ]
     },
     "execution_count": 59,
     "metadata": {},
     "output_type": "execute_result"
    }
   ],
   "source": [
    "# 변수에 재할당 하지 않으면 값이 변하지 않음\n",
    "arr"
   ]
  },
  {
   "cell_type": "markdown",
   "metadata": {},
   "source": [
    "### (2) 배열 합치기 np.concatenate()"
   ]
  },
  {
   "cell_type": "code",
   "execution_count": 60,
   "metadata": {
    "scrolled": true
   },
   "outputs": [],
   "source": [
    "a = np.array([[1, 2], [3, 4]])\n",
    "b = np.array([[5, 6], [7, 8]])"
   ]
  },
  {
   "cell_type": "code",
   "execution_count": 61,
   "metadata": {},
   "outputs": [
    {
     "data": {
      "text/plain": [
       "array([[1, 2, 5, 6],\n",
       "       [3, 4, 7, 8]])"
      ]
     },
     "execution_count": 61,
     "metadata": {},
     "output_type": "execute_result"
    }
   ],
   "source": [
    "np.concatenate((a, b), axis = 1)"
   ]
  },
  {
   "cell_type": "markdown",
   "metadata": {},
   "source": [
    "### (3) 배열의 shape이 다를 때 (행과 열의 갯수가 다를 때)\n",
    "* axis 0 = 행, 1 = 열\n",
    "* 열 갯수가 일치해야 함"
   ]
  },
  {
   "cell_type": "code",
   "execution_count": 62,
   "metadata": {},
   "outputs": [],
   "source": [
    "x = np.array([[1, 2], [3, 4]])\n",
    "y = np.array([[5, 6]])"
   ]
  },
  {
   "cell_type": "code",
   "execution_count": 63,
   "metadata": {},
   "outputs": [
    {
     "data": {
      "text/plain": [
       "array([[1, 2],\n",
       "       [3, 4],\n",
       "       [5, 6]])"
      ]
     },
     "execution_count": 63,
     "metadata": {},
     "output_type": "execute_result"
    }
   ],
   "source": [
    "# axis를 지정해주어야 함 0 = 행 방향(아래로), 1 = 열 방향(옆으로)\n",
    "np.concatenate((x, y), axis=0)"
   ]
  },
  {
   "cell_type": "code",
   "execution_count": 64,
   "metadata": {},
   "outputs": [
    {
     "ename": "ValueError",
     "evalue": "all the input array dimensions for the concatenation axis must match exactly, but along dimension 0, the array at index 0 has size 2 and the array at index 1 has size 1",
     "output_type": "error",
     "traceback": [
      "\u001b[1;31m---------------------------------------------------------------------------\u001b[0m",
      "\u001b[1;31mValueError\u001b[0m                                Traceback (most recent call last)",
      "Input \u001b[1;32mIn [64]\u001b[0m, in \u001b[0;36m<cell line: 1>\u001b[1;34m()\u001b[0m\n\u001b[1;32m----> 1\u001b[0m \u001b[43mnp\u001b[49m\u001b[38;5;241;43m.\u001b[39;49m\u001b[43mconcatenate\u001b[49m\u001b[43m(\u001b[49m\u001b[43m(\u001b[49m\u001b[43mx\u001b[49m\u001b[43m,\u001b[49m\u001b[43m \u001b[49m\u001b[43my\u001b[49m\u001b[43m)\u001b[49m\u001b[43m,\u001b[49m\u001b[43m \u001b[49m\u001b[43maxis\u001b[49m\u001b[38;5;241;43m=\u001b[39;49m\u001b[38;5;241;43m1\u001b[39;49m\u001b[43m)\u001b[49m\n",
      "File \u001b[1;32m<__array_function__ internals>:5\u001b[0m, in \u001b[0;36mconcatenate\u001b[1;34m(*args, **kwargs)\u001b[0m\n",
      "\u001b[1;31mValueError\u001b[0m: all the input array dimensions for the concatenation axis must match exactly, but along dimension 0, the array at index 0 has size 2 and the array at index 1 has size 1"
     ]
    }
   ],
   "source": [
    "np.concatenate((x, y), axis=1)"
   ]
  },
  {
   "cell_type": "code",
   "execution_count": 65,
   "metadata": {},
   "outputs": [
    {
     "data": {
      "text/plain": [
       "(2, 2)"
      ]
     },
     "execution_count": 65,
     "metadata": {},
     "output_type": "execute_result"
    }
   ],
   "source": [
    "x.shape"
   ]
  },
  {
   "cell_type": "code",
   "execution_count": 66,
   "metadata": {},
   "outputs": [
    {
     "data": {
      "text/plain": [
       "(1, 2)"
      ]
     },
     "execution_count": 66,
     "metadata": {},
     "output_type": "execute_result"
    }
   ],
   "source": [
    "y.shape"
   ]
  },
  {
   "cell_type": "markdown",
   "metadata": {},
   "source": [
    "* axis = 0</br>\n",
    " x</br>\n",
    "[1, 2]</br>\n",
    "[3, 4]</br>\n",
    "y</br>\n",
    "[5, 6]</br></br>\n",
    "* axis = 1</br>\n",
    " x &nbsp; &nbsp; &nbsp; &nbsp; &nbsp; &nbsp; y </br>\n",
    "[1, 2] &nbsp; &nbsp; &nbsp;     [5, 6]</br>\n",
    "[3, 4] &nbsp; &nbsp; &nbsp; &nbsp; ?   </br>"
   ]
  },
  {
   "cell_type": "markdown",
   "metadata": {},
   "source": [
    "* .T (전치행렬)로 행과 열을 바꿔 수를 맞추면 통합 가능"
   ]
  },
  {
   "cell_type": "code",
   "execution_count": 67,
   "metadata": {
    "scrolled": true
   },
   "outputs": [
    {
     "data": {
      "text/plain": [
       "array([[1, 2, 5],\n",
       "       [3, 4, 6]])"
      ]
     },
     "execution_count": 67,
     "metadata": {},
     "output_type": "execute_result"
    }
   ],
   "source": [
    "np.concatenate((x, y.T), axis=1)"
   ]
  },
  {
   "cell_type": "markdown",
   "metadata": {},
   "source": [
    "## 4) 행렬 모양 바꾸기, reshape()"
   ]
  },
  {
   "cell_type": "code",
   "execution_count": 68,
   "metadata": {
    "scrolled": true
   },
   "outputs": [
    {
     "data": {
      "text/plain": [
       "array([0, 1, 2, 3, 4, 5])"
      ]
     },
     "execution_count": 68,
     "metadata": {},
     "output_type": "execute_result"
    }
   ],
   "source": [
    "a = np.arange(6)\n",
    "a"
   ]
  },
  {
   "cell_type": "code",
   "execution_count": 69,
   "metadata": {},
   "outputs": [
    {
     "data": {
      "text/plain": [
       "array([[0, 1],\n",
       "       [2, 3],\n",
       "       [4, 5]])"
      ]
     },
     "execution_count": 69,
     "metadata": {},
     "output_type": "execute_result"
    }
   ],
   "source": [
    "b = a.reshape(3, 2)\n",
    "b"
   ]
  },
  {
   "cell_type": "markdown",
   "metadata": {},
   "source": [
    "* 인덱싱 방법에 따른 reshape\n",
    "* order = 'C' 는 C언어의 인덱싱 방법을 따른 행 우선 \n",
    "* order = 'F' 는 Fortran언어의 인덱싱 방법을 따른 열 우선 "
   ]
  },
  {
   "cell_type": "code",
   "execution_count": 70,
   "metadata": {
    "scrolled": false
   },
   "outputs": [
    {
     "data": {
      "text/plain": [
       "array([[0, 1, 2, 3, 4, 5]])"
      ]
     },
     "execution_count": 70,
     "metadata": {},
     "output_type": "execute_result"
    }
   ],
   "source": [
    "# C 언어 방식 (행 우선 = 기본 값)\n",
    "np.reshape(b, newshape=(1, 6), order='C')"
   ]
  },
  {
   "cell_type": "code",
   "execution_count": 71,
   "metadata": {},
   "outputs": [
    {
     "data": {
      "text/plain": [
       "array([[0, 2, 4, 1, 3, 5]])"
      ]
     },
     "execution_count": 71,
     "metadata": {},
     "output_type": "execute_result"
    }
   ],
   "source": [
    "# Fortran 언어 방식 (열 우선)\n",
    "np.reshape(b, newshape=(1, 6), order='F')"
   ]
  },
  {
   "cell_type": "markdown",
   "metadata": {},
   "source": [
    "## 5) 1차원 배열에 차원 추가해 2차원 배열로 만들기\n",
    "* np.newaxis, np.expand_dims"
   ]
  },
  {
   "cell_type": "markdown",
   "metadata": {},
   "source": [
    "### (1) np.newaxis로 행, 열 축 추가하기"
   ]
  },
  {
   "cell_type": "code",
   "execution_count": 72,
   "metadata": {
    "scrolled": true
   },
   "outputs": [
    {
     "data": {
      "text/plain": [
       "(6,)"
      ]
     },
     "execution_count": 72,
     "metadata": {},
     "output_type": "execute_result"
    }
   ],
   "source": [
    "a = np.array([1,2,3,4,5,6])\n",
    "a.shape"
   ]
  },
  {
   "cell_type": "code",
   "execution_count": 73,
   "metadata": {},
   "outputs": [
    {
     "data": {
      "text/plain": [
       "array([1, 2, 3, 4, 5, 6])"
      ]
     },
     "execution_count": 73,
     "metadata": {},
     "output_type": "execute_result"
    }
   ],
   "source": [
    "a"
   ]
  },
  {
   "cell_type": "code",
   "execution_count": 74,
   "metadata": {},
   "outputs": [
    {
     "data": {
      "text/plain": [
       "(1, 6)"
      ]
     },
     "execution_count": 74,
     "metadata": {},
     "output_type": "execute_result"
    }
   ],
   "source": [
    "a2 = a[np.newaxis, :]\n",
    "a2.shape"
   ]
  },
  {
   "cell_type": "code",
   "execution_count": 75,
   "metadata": {},
   "outputs": [
    {
     "data": {
      "text/plain": [
       "array([[1, 2, 3, 4, 5, 6]])"
      ]
     },
     "execution_count": 75,
     "metadata": {},
     "output_type": "execute_result"
    }
   ],
   "source": [
    "a2"
   ]
  },
  {
   "cell_type": "code",
   "execution_count": 76,
   "metadata": {},
   "outputs": [
    {
     "data": {
      "text/plain": [
       "(1, 6)"
      ]
     },
     "execution_count": 76,
     "metadata": {},
     "output_type": "execute_result"
    }
   ],
   "source": [
    "row_vector = a[np.newaxis, :]\n",
    "row_vector.shape"
   ]
  },
  {
   "cell_type": "code",
   "execution_count": 77,
   "metadata": {},
   "outputs": [
    {
     "data": {
      "text/plain": [
       "array([[1, 2, 3, 4, 5, 6]])"
      ]
     },
     "execution_count": 77,
     "metadata": {},
     "output_type": "execute_result"
    }
   ],
   "source": [
    "row_vector"
   ]
  },
  {
   "cell_type": "code",
   "execution_count": 78,
   "metadata": {},
   "outputs": [
    {
     "data": {
      "text/plain": [
       "(6, 1)"
      ]
     },
     "execution_count": 78,
     "metadata": {},
     "output_type": "execute_result"
    }
   ],
   "source": [
    "col_vector = a[:, np.newaxis]\n",
    "col_vector.shape"
   ]
  },
  {
   "cell_type": "code",
   "execution_count": 79,
   "metadata": {},
   "outputs": [
    {
     "data": {
      "text/plain": [
       "array([[1],\n",
       "       [2],\n",
       "       [3],\n",
       "       [4],\n",
       "       [5],\n",
       "       [6]])"
      ]
     },
     "execution_count": 79,
     "metadata": {},
     "output_type": "execute_result"
    }
   ],
   "source": [
    "col_vector"
   ]
  },
  {
   "cell_type": "code",
   "execution_count": 80,
   "metadata": {},
   "outputs": [
    {
     "data": {
      "text/plain": [
       "(6,)"
      ]
     },
     "execution_count": 80,
     "metadata": {},
     "output_type": "execute_result"
    }
   ],
   "source": [
    "a = np.array([1, 2, 3, 4, 5, 6])\n",
    "a.shape"
   ]
  },
  {
   "cell_type": "markdown",
   "metadata": {},
   "source": [
    "### (2) np.expand_dims로 행, 열 축 추가하기"
   ]
  },
  {
   "cell_type": "code",
   "execution_count": 81,
   "metadata": {},
   "outputs": [
    {
     "data": {
      "text/plain": [
       "(6, 1)"
      ]
     },
     "execution_count": 81,
     "metadata": {},
     "output_type": "execute_result"
    }
   ],
   "source": [
    "b = np.expand_dims(a, axis=1)\n",
    "b.shape"
   ]
  },
  {
   "cell_type": "code",
   "execution_count": 82,
   "metadata": {},
   "outputs": [
    {
     "data": {
      "text/plain": [
       "(1, 6)"
      ]
     },
     "execution_count": 82,
     "metadata": {},
     "output_type": "execute_result"
    }
   ],
   "source": [
    "c = np.expand_dims(a, axis=0)\n",
    "c.shape"
   ]
  },
  {
   "cell_type": "markdown",
   "metadata": {},
   "source": [
    "## 6) indexing(번호로 값 가져오기), slicing(일부만 잘라오기)"
   ]
  },
  {
   "cell_type": "code",
   "execution_count": 83,
   "metadata": {},
   "outputs": [],
   "source": [
    "data = np.array([1, 2, 3])"
   ]
  },
  {
   "cell_type": "code",
   "execution_count": 84,
   "metadata": {},
   "outputs": [
    {
     "data": {
      "text/plain": [
       "2"
      ]
     },
     "execution_count": 84,
     "metadata": {},
     "output_type": "execute_result"
    }
   ],
   "source": [
    "data[1]"
   ]
  },
  {
   "cell_type": "code",
   "execution_count": 85,
   "metadata": {},
   "outputs": [
    {
     "data": {
      "text/plain": [
       "array([1, 2])"
      ]
     },
     "execution_count": 85,
     "metadata": {},
     "output_type": "execute_result"
    }
   ],
   "source": [
    "data[0:2]"
   ]
  },
  {
   "cell_type": "code",
   "execution_count": 86,
   "metadata": {},
   "outputs": [
    {
     "data": {
      "text/plain": [
       "array([2, 3])"
      ]
     },
     "execution_count": 86,
     "metadata": {},
     "output_type": "execute_result"
    }
   ],
   "source": [
    "data[1:]"
   ]
  },
  {
   "cell_type": "code",
   "execution_count": 87,
   "metadata": {},
   "outputs": [
    {
     "data": {
      "text/plain": [
       "array([2, 3])"
      ]
     },
     "execution_count": 87,
     "metadata": {},
     "output_type": "execute_result"
    }
   ],
   "source": [
    "data[-2:]"
   ]
  },
  {
   "cell_type": "markdown",
   "metadata": {},
   "source": [
    "![image1](https://numpy.org/doc/stable/_images/np_indexing.png)"
   ]
  },
  {
   "cell_type": "markdown",
   "metadata": {},
   "source": [
    "## 슬라이싱"
   ]
  },
  {
   "cell_type": "markdown",
   "metadata": {},
   "source": [
    "파이썬 리스트와 유사하게, Numpy 배열도 슬라이싱이 가능합니다.\n",
    "\n",
    "Numpy 배열은 다차원인 경우가 많기에, 각 차원별로 어떻게 슬라이스할건지 명확히 해야 합니다:\n",
    "\n",
    "Numpy 배열을 슬라이싱하면, 연속된 값을 가져오기에 결과로 얻어지는 배열은 언제나 원본 배열의 부분 배열입니다."
   ]
  },
  {
   "cell_type": "code",
   "execution_count": 139,
   "metadata": {},
   "outputs": [],
   "source": [
    "import numpy as np\n",
    "\n",
    "# shape가 (3, 4)인 2차원 배열 생성\n",
    "# [[ 1  2  3  4]\n",
    "#  [ 5  6  7  8]\n",
    "#  [ 9 10 11 12]]\n",
    "a = np.array([[1,2,3,4], [5,6,7,8], [9,10,11,12]])"
   ]
  },
  {
   "cell_type": "markdown",
   "metadata": {},
   "source": [
    "다차원배열은 아래와 같은 방법으로 슬라이싱 합니다."
   ]
  },
  {
   "cell_type": "markdown",
   "metadata": {},
   "source": [
    "`a[ : , : ]`\n",
    "\n",
    "\n",
    "`a[행 슬라이싱 시작:행 슬라이싱 끝, 열 슬라이싱 시작:열 슬라이싱 끝]`\n",
    "\n",
    "\n",
    "**시작값**부터 **끝값** <font color=\"red\">전</font>까지 슬라이싱 됩니다"
   ]
  },
  {
   "cell_type": "code",
   "execution_count": 140,
   "metadata": {},
   "outputs": [
    {
     "data": {
      "text/plain": [
       "array([[1, 2, 3, 4],\n",
       "       [5, 6, 7, 8]])"
      ]
     },
     "execution_count": 140,
     "metadata": {},
     "output_type": "execute_result"
    }
   ],
   "source": [
    "a[0:2, 0:4]"
   ]
  },
  {
   "cell_type": "markdown",
   "metadata": {},
   "source": [
    "0행부터 2행 전까지(= 1행 까지), 0열부터 4열 전까지(= 3열 까지) 슬라이스되었습니다.\n",
    "\n",
    "시작값이 0인 경우 생략 가능하며 끝 값이 shape의 값과 동일한 경우 생략 가능합니다.\n",
    "\n",
    "`a[0:2, 0:4]`은 `a[:2, :]`로 표시할 수 있습니다."
   ]
  },
  {
   "cell_type": "code",
   "execution_count": null,
   "metadata": {},
   "outputs": [],
   "source": [
    "a[:2, :]"
   ]
  },
  {
   "cell_type": "markdown",
   "metadata": {},
   "source": [
    "위 코드는 열을 슬라이싱 하지 않는 코드이며 이런 경우 열 부분은 전체 생략 가능합니다.\n",
    "\n",
    "(행을 슬라이싱 하지 않는다고 하더라도, 행부분을 생략할 순 없습니다.)"
   ]
  },
  {
   "cell_type": "code",
   "execution_count": 141,
   "metadata": {},
   "outputs": [
    {
     "data": {
      "text/plain": [
       "array([[1, 2, 3, 4],\n",
       "       [5, 6, 7, 8]])"
      ]
     },
     "execution_count": 141,
     "metadata": {},
     "output_type": "execute_result"
    }
   ],
   "source": [
    "a[:2]"
   ]
  },
  {
   "cell_type": "markdown",
   "metadata": {},
   "source": [
    "**슬라이싱에 익숙해지기 전까진 생략하지말고 명시적으로 코드를 작성해주는것이 실수를 방지하는 방법입니다.**"
   ]
  },
  {
   "cell_type": "markdown",
   "metadata": {},
   "source": [
    "## 인덱싱"
   ]
  },
  {
   "cell_type": "markdown",
   "metadata": {},
   "source": [
    "인덱싱을 통해 원소에 접근할 수 있습니다.\n",
    "\n",
    "두 가지 표현법이 있습니다."
   ]
  },
  {
   "cell_type": "code",
   "execution_count": 143,
   "metadata": {},
   "outputs": [
    {
     "data": {
      "text/plain": [
       "1"
      ]
     },
     "execution_count": 143,
     "metadata": {},
     "output_type": "execute_result"
    }
   ],
   "source": [
    "# 선호하는 방식\n",
    "a[0, 0]"
   ]
  },
  {
   "cell_type": "code",
   "execution_count": 144,
   "metadata": {},
   "outputs": [
    {
     "data": {
      "text/plain": [
       "1"
      ]
     },
     "execution_count": 144,
     "metadata": {},
     "output_type": "execute_result"
    }
   ],
   "source": [
    "a[0][0]"
   ]
  },
  {
   "cell_type": "markdown",
   "metadata": {},
   "source": [
    "Numpy 배열을 슬라이싱하면, 연속된 값을 가져오기에 결과로 얻어지는 배열은 언제나 원본 배열의 부분 배열입니다.\n",
    "\n",
    "그러나 인덱싱을 한다면, 연속하지 않은 값을 가져올 수 있으니 원본과 다른 배열을 만들 수 있습니다."
   ]
  },
  {
   "cell_type": "code",
   "execution_count": 145,
   "metadata": {},
   "outputs": [
    {
     "data": {
      "text/plain": [
       "array([[ 1,  2,  3,  4],\n",
       "       [ 5,  6,  7,  8],\n",
       "       [ 9, 10, 11, 12]])"
      ]
     },
     "execution_count": 145,
     "metadata": {},
     "output_type": "execute_result"
    }
   ],
   "source": [
    "a"
   ]
  },
  {
   "cell_type": "code",
   "execution_count": 146,
   "metadata": {},
   "outputs": [
    {
     "data": {
      "text/plain": [
       "array([[ 1,  2,  3,  4],\n",
       "       [ 9, 10, 11, 12]])"
      ]
     },
     "execution_count": 146,
     "metadata": {},
     "output_type": "execute_result"
    }
   ],
   "source": [
    "# 0행, 2행만 인덱싱\n",
    "a[[0, 2], ]"
   ]
  },
  {
   "cell_type": "code",
   "execution_count": 147,
   "metadata": {},
   "outputs": [
    {
     "data": {
      "text/plain": [
       "array([[ 1,  2,  4],\n",
       "       [ 5,  6,  8],\n",
       "       [ 9, 10, 12]])"
      ]
     },
     "execution_count": 147,
     "metadata": {},
     "output_type": "execute_result"
    }
   ],
   "source": [
    "# 0열, 1열, 3열만 인덱싱\n",
    "a[:, [0,1,3]]"
   ]
  },
  {
   "cell_type": "markdown",
   "metadata": {},
   "source": [
    "## 인덱싱&슬라이싱 - 차원\n",
    "\n",
    "* 정수 인덱싱과 슬라이싱을 혼합해서 사용하면 낮은 차원의 배열이 생성되지만,\n",
    "* 슬라이싱만 사용하면 원본 배열과 동일한 차원의 배열이 생성됩니다.\n",
    "* 0번째 행을 인덱싱하는 경우와 슬라이싱 하는 경우를 비교해보겠습니다."
   ]
  },
  {
   "cell_type": "code",
   "execution_count": 148,
   "metadata": {},
   "outputs": [
    {
     "data": {
      "text/plain": [
       "array([[ 1,  2,  3,  4],\n",
       "       [ 5,  6,  7,  8],\n",
       "       [ 9, 10, 11, 12]])"
      ]
     },
     "execution_count": 148,
     "metadata": {},
     "output_type": "execute_result"
    }
   ],
   "source": [
    "a"
   ]
  },
  {
   "cell_type": "code",
   "execution_count": 149,
   "metadata": {},
   "outputs": [
    {
     "data": {
      "text/plain": [
       "(3, 4)"
      ]
     },
     "execution_count": 149,
     "metadata": {},
     "output_type": "execute_result"
    }
   ],
   "source": [
    "a.shape"
   ]
  },
  {
   "cell_type": "code",
   "execution_count": 150,
   "metadata": {},
   "outputs": [
    {
     "data": {
      "text/plain": [
       "2"
      ]
     },
     "execution_count": 150,
     "metadata": {},
     "output_type": "execute_result"
    }
   ],
   "source": [
    "a.ndim"
   ]
  },
  {
   "cell_type": "code",
   "execution_count": 154,
   "metadata": {},
   "outputs": [
    {
     "data": {
      "text/plain": [
       "array([[1, 2, 3, 4]])"
      ]
     },
     "execution_count": 154,
     "metadata": {},
     "output_type": "execute_result"
    }
   ],
   "source": [
    "# 슬라이싱만 사용\n",
    "slicedRow = a[0:1, :]\n",
    "slicedRow"
   ]
  },
  {
   "cell_type": "code",
   "execution_count": 152,
   "metadata": {},
   "outputs": [
    {
     "data": {
      "text/plain": [
       "(1, 4)"
      ]
     },
     "execution_count": 152,
     "metadata": {},
     "output_type": "execute_result"
    }
   ],
   "source": [
    "slicedRow.shape"
   ]
  },
  {
   "cell_type": "code",
   "execution_count": 153,
   "metadata": {},
   "outputs": [
    {
     "data": {
      "text/plain": [
       "2"
      ]
     },
     "execution_count": 153,
     "metadata": {},
     "output_type": "execute_result"
    }
   ],
   "source": [
    "slicedRow.ndim"
   ]
  },
  {
   "cell_type": "code",
   "execution_count": 155,
   "metadata": {},
   "outputs": [
    {
     "data": {
      "text/plain": [
       "array([1, 2, 3, 4])"
      ]
     },
     "execution_count": 155,
     "metadata": {},
     "output_type": "execute_result"
    }
   ],
   "source": [
    "# 아래와 동일한 코드\n",
    "# 인덱싱&슬라이싱 혼합 사용\n",
    "indexedRow = a[0]\n",
    "indexedRow"
   ]
  },
  {
   "cell_type": "code",
   "execution_count": 156,
   "metadata": {},
   "outputs": [
    {
     "data": {
      "text/plain": [
       "(4,)"
      ]
     },
     "execution_count": 156,
     "metadata": {},
     "output_type": "execute_result"
    }
   ],
   "source": [
    "indexedRow.shape"
   ]
  },
  {
   "cell_type": "code",
   "execution_count": 157,
   "metadata": {},
   "outputs": [
    {
     "data": {
      "text/plain": [
       "1"
      ]
     },
     "execution_count": 157,
     "metadata": {},
     "output_type": "execute_result"
    }
   ],
   "source": [
    "indexedRow.ndim"
   ]
  },
  {
   "cell_type": "code",
   "execution_count": 158,
   "metadata": {},
   "outputs": [
    {
     "data": {
      "text/plain": [
       "array([1, 2, 3, 4])"
      ]
     },
     "execution_count": 158,
     "metadata": {},
     "output_type": "execute_result"
    }
   ],
   "source": [
    "# 위와 동일한 코드\n",
    "# 인덱싱&슬라이싱 혼합 사용\n",
    "indexedRow2 = a[0, :]\n",
    "indexedRow2"
   ]
  },
  {
   "cell_type": "code",
   "execution_count": 159,
   "metadata": {},
   "outputs": [
    {
     "data": {
      "text/plain": [
       "(4,)"
      ]
     },
     "execution_count": 159,
     "metadata": {},
     "output_type": "execute_result"
    }
   ],
   "source": [
    "indexedRow2.shape"
   ]
  },
  {
   "cell_type": "code",
   "execution_count": 160,
   "metadata": {},
   "outputs": [
    {
     "data": {
      "text/plain": [
       "1"
      ]
     },
     "execution_count": 160,
     "metadata": {},
     "output_type": "execute_result"
    }
   ],
   "source": [
    "indexedRow2.ndim"
   ]
  },
  {
   "cell_type": "markdown",
   "metadata": {},
   "source": [
    "행이 아닌 열의 경우에도 마찬가지 입니다."
   ]
  },
  {
   "cell_type": "code",
   "execution_count": 161,
   "metadata": {},
   "outputs": [
    {
     "data": {
      "text/plain": [
       "array([[1],\n",
       "       [5],\n",
       "       [9]])"
      ]
     },
     "execution_count": 161,
     "metadata": {},
     "output_type": "execute_result"
    }
   ],
   "source": [
    "# 슬라이싱만 사용\n",
    "slicedCol = a[:, 0:1]\n",
    "slicedCol"
   ]
  },
  {
   "cell_type": "code",
   "execution_count": 162,
   "metadata": {},
   "outputs": [
    {
     "data": {
      "text/plain": [
       "(3, 1)"
      ]
     },
     "execution_count": 162,
     "metadata": {},
     "output_type": "execute_result"
    }
   ],
   "source": [
    "slicedCol.shape"
   ]
  },
  {
   "cell_type": "code",
   "execution_count": 163,
   "metadata": {},
   "outputs": [
    {
     "data": {
      "text/plain": [
       "2"
      ]
     },
     "execution_count": 163,
     "metadata": {},
     "output_type": "execute_result"
    }
   ],
   "source": [
    "slicedCol.ndim"
   ]
  },
  {
   "cell_type": "code",
   "execution_count": 164,
   "metadata": {},
   "outputs": [
    {
     "data": {
      "text/plain": [
       "array([1, 5, 9])"
      ]
     },
     "execution_count": 164,
     "metadata": {},
     "output_type": "execute_result"
    }
   ],
   "source": [
    "# 인덱싱&슬라이싱 혼합 사용\n",
    "indexedCol = a[:, 0]\n",
    "indexedCol"
   ]
  },
  {
   "cell_type": "code",
   "execution_count": 165,
   "metadata": {},
   "outputs": [
    {
     "data": {
      "text/plain": [
       "(3,)"
      ]
     },
     "execution_count": 165,
     "metadata": {},
     "output_type": "execute_result"
    }
   ],
   "source": [
    "indexedCol.shape"
   ]
  },
  {
   "cell_type": "code",
   "execution_count": 166,
   "metadata": {},
   "outputs": [
    {
     "data": {
      "text/plain": [
       "1"
      ]
     },
     "execution_count": 166,
     "metadata": {},
     "output_type": "execute_result"
    }
   ],
   "source": [
    "indexedCol.ndim"
   ]
  },
  {
   "cell_type": "markdown",
   "metadata": {},
   "source": [
    "다차원배열간 연산에서 차원이 달라 문제가 발생하는 경우가 종종 있습니다.\n",
    "\n",
    "**특별히 인덱싱을 써야 하는 상황이 아니라면, 인덱싱보다 슬라이싱을 추천합니다.**"
   ]
  },
  {
   "cell_type": "markdown",
   "metadata": {},
   "source": [
    "## 인덱싱&슬라이싱 - 값 복사&참조"
   ]
  },
  {
   "cell_type": "markdown",
   "metadata": {},
   "source": [
    "인덱싱은 값을 복사해옵니다. 복사된 값을 변경해도 원본의 값은 변하지 않습니다."
   ]
  },
  {
   "cell_type": "code",
   "execution_count": 168,
   "metadata": {},
   "outputs": [
    {
     "data": {
      "text/plain": [
       "array([[ 1,  2,  3,  4],\n",
       "       [ 5,  6,  7,  8],\n",
       "       [ 9, 10, 11, 12]])"
      ]
     },
     "execution_count": 168,
     "metadata": {},
     "output_type": "execute_result"
    }
   ],
   "source": [
    "a"
   ]
  },
  {
   "cell_type": "code",
   "execution_count": 169,
   "metadata": {},
   "outputs": [
    {
     "name": "stdout",
     "output_type": "stream",
     "text": [
      "a[0, 0]: 1\n",
      "b: 100\n"
     ]
    }
   ],
   "source": [
    "# 인덱싱해서 b에 대입\n",
    "b = a[0, 0]\n",
    "\n",
    "# b값 수정\n",
    "b = 100\n",
    "\n",
    "print(\"a[0, 0]: {}\".format(a[0, 0]))\n",
    "print(\"b: {}\".format(b))"
   ]
  },
  {
   "cell_type": "code",
   "execution_count": 172,
   "metadata": {},
   "outputs": [
    {
     "data": {
      "text/plain": [
       "array([[  1,   2,   3,   4],\n",
       "       [  5, 100,   7,   8],\n",
       "       [  9,  10,  11,  12]])"
      ]
     },
     "execution_count": 172,
     "metadata": {},
     "output_type": "execute_result"
    }
   ],
   "source": [
    "a"
   ]
  },
  {
   "cell_type": "markdown",
   "metadata": {},
   "source": [
    "슬라이싱된 배열은 원본 배열과 같은 데이터를 참조합니다.\n",
    "\n",
    "<font color=\"red\">즉 슬라이싱된 배열을 수정하면 원본 배열 역시 수정됩니다.</font>"
   ]
  },
  {
   "cell_type": "code",
   "execution_count": 173,
   "metadata": {},
   "outputs": [
    {
     "name": "stdout",
     "output_type": "stream",
     "text": [
      "[[  1   2   3]\n",
      " [  5 100   7]\n",
      " [  9  10  11]]\n"
     ]
    }
   ],
   "source": [
    "# a를 슬라이스하여 c 생성\n",
    "c = a[0:3, 0:3]\n",
    "\n",
    "print(c)"
   ]
  },
  {
   "cell_type": "code",
   "execution_count": 174,
   "metadata": {},
   "outputs": [
    {
     "name": "stdout",
     "output_type": "stream",
     "text": [
      "[[100   2   3]\n",
      " [  5 100   7]\n",
      " [  9  10  11]]\n",
      "------------------\n",
      "[[100   2   3   4]\n",
      " [  5 100   7   8]\n",
      " [  9  10  11  12]]\n"
     ]
    }
   ],
   "source": [
    "# c[0, 0]은 a[1, 1]과 같은 데이터입니다.\n",
    "c[0, 0] = 100\n",
    "\n",
    "print(c)\n",
    "print('------------------')\n",
    "print(a)"
   ]
  },
  {
   "cell_type": "markdown",
   "metadata": {},
   "source": [
    "## 7) 비교 연산자를 사용해 조건에 맞는 값만 가져오기"
   ]
  },
  {
   "cell_type": "code",
   "execution_count": 88,
   "metadata": {},
   "outputs": [],
   "source": [
    "a = np.array([[1 , 2, 3, 4], [5, 6, 7, 8], [9, 10, 11, 12]])"
   ]
  },
  {
   "cell_type": "code",
   "execution_count": 89,
   "metadata": {},
   "outputs": [
    {
     "name": "stdout",
     "output_type": "stream",
     "text": [
      "[1 2 3 4]\n"
     ]
    }
   ],
   "source": [
    "# 5보다 작은 수만\n",
    "print(a[a < 5])"
   ]
  },
  {
   "cell_type": "code",
   "execution_count": 90,
   "metadata": {},
   "outputs": [
    {
     "name": "stdout",
     "output_type": "stream",
     "text": [
      "[ 5  6  7  8  9 10 11 12]\n"
     ]
    }
   ],
   "source": [
    "# 5보다 큰 수만\n",
    "five_up = (a >= 5)\n",
    "print(a[five_up])"
   ]
  },
  {
   "cell_type": "code",
   "execution_count": 91,
   "metadata": {},
   "outputs": [
    {
     "name": "stdout",
     "output_type": "stream",
     "text": [
      "[ 2  4  6  8 10 12]\n"
     ]
    }
   ],
   "source": [
    "# a를 2로 나눈 나머지가 0인 경우만 (짝수)  \n",
    "divisible_by_2 = a[a%2==0]\n",
    "print(divisible_by_2)"
   ]
  },
  {
   "cell_type": "markdown",
   "metadata": {},
   "source": [
    "## 8) 비교연산 및 논리 연산 조합으로 원하는 자료 가져오기"
   ]
  },
  {
   "cell_type": "code",
   "execution_count": 92,
   "metadata": {},
   "outputs": [
    {
     "name": "stdout",
     "output_type": "stream",
     "text": [
      "[ 3  4  5  6  7  8  9 10]\n"
     ]
    }
   ],
   "source": [
    "\n",
    "c = a[(a > 2) & (a < 11)]\n",
    "print(c)"
   ]
  },
  {
   "cell_type": "code",
   "execution_count": 93,
   "metadata": {},
   "outputs": [
    {
     "name": "stdout",
     "output_type": "stream",
     "text": [
      "[[False False False False]\n",
      " [ True  True  True  True]\n",
      " [ True  True  True  True]]\n"
     ]
    }
   ],
   "source": [
    "five_up = (a > 5) | (a == 5)\n",
    "print(five_up)"
   ]
  },
  {
   "cell_type": "markdown",
   "metadata": {},
   "source": [
    "## 9) 이미 존재하는 데이터로 array만드는 법\n",
    "* slicing\n",
    "* indexing\n",
    "* np.vstack()\n",
    "* np.hstack()\n",
    "* np.hsplit()\n",
    "* np.view()\n",
    "* np.copy()"
   ]
  },
  {
   "cell_type": "code",
   "execution_count": 94,
   "metadata": {},
   "outputs": [],
   "source": [
    "a = np.array([1,  2,  3,  4,  5,  6,  7,  8,  9, 10])"
   ]
  },
  {
   "cell_type": "code",
   "execution_count": 95,
   "metadata": {},
   "outputs": [
    {
     "data": {
      "text/plain": [
       "array([4, 5, 6, 7, 8])"
      ]
     },
     "execution_count": 95,
     "metadata": {},
     "output_type": "execute_result"
    }
   ],
   "source": [
    "# slicing\n",
    "arr1 = a[3:8]\n",
    "arr1"
   ]
  },
  {
   "cell_type": "markdown",
   "metadata": {},
   "source": [
    "* vstack : 행 방향으로 2개의 배열 합치기"
   ]
  },
  {
   "cell_type": "code",
   "execution_count": 96,
   "metadata": {},
   "outputs": [],
   "source": [
    "a1 = np.array([[1, 1],\n",
    "               [2, 2]])\n",
    "\n",
    "a2 = np.array([[3, 3],\n",
    "               [4, 4]])"
   ]
  },
  {
   "cell_type": "code",
   "execution_count": 97,
   "metadata": {},
   "outputs": [
    {
     "data": {
      "text/plain": [
       "array([[1, 1],\n",
       "       [2, 2],\n",
       "       [3, 3],\n",
       "       [4, 4]])"
      ]
     },
     "execution_count": 97,
     "metadata": {},
     "output_type": "execute_result"
    }
   ],
   "source": [
    "np.vstack((a1, a2))"
   ]
  },
  {
   "cell_type": "markdown",
   "metadata": {},
   "source": [
    "* hstack: 열 방향으로 2개의 배열 합치기"
   ]
  },
  {
   "cell_type": "code",
   "execution_count": 98,
   "metadata": {},
   "outputs": [
    {
     "data": {
      "text/plain": [
       "array([[1, 1, 3, 3],\n",
       "       [2, 2, 4, 4]])"
      ]
     },
     "execution_count": 98,
     "metadata": {},
     "output_type": "execute_result"
    }
   ],
   "source": [
    "np.hstack((a1, a2))"
   ]
  },
  {
   "cell_type": "markdown",
   "metadata": {},
   "source": [
    "* hsplit: 지정한 크기의 행렬로 분할"
   ]
  },
  {
   "cell_type": "code",
   "execution_count": 99,
   "metadata": {},
   "outputs": [
    {
     "data": {
      "text/plain": [
       "array([[ 1,  2,  3,  4,  5,  6,  7,  8,  9, 10, 11, 12],\n",
       "       [13, 14, 15, 16, 17, 18, 19, 20, 21, 22, 23, 24]])"
      ]
     },
     "execution_count": 99,
     "metadata": {},
     "output_type": "execute_result"
    }
   ],
   "source": [
    "x = np.arange(1, 25).reshape(2, 12)\n",
    "x"
   ]
  },
  {
   "cell_type": "code",
   "execution_count": 100,
   "metadata": {},
   "outputs": [
    {
     "data": {
      "text/plain": [
       "[array([[ 1,  2,  3,  4],\n",
       "        [13, 14, 15, 16]]),\n",
       " array([[ 5,  6,  7,  8],\n",
       "        [17, 18, 19, 20]]),\n",
       " array([[ 9, 10, 11, 12],\n",
       "        [21, 22, 23, 24]])]"
      ]
     },
     "execution_count": 100,
     "metadata": {},
     "output_type": "execute_result"
    }
   ],
   "source": [
    "np.hsplit(x, 3)"
   ]
  },
  {
   "cell_type": "code",
   "execution_count": 101,
   "metadata": {},
   "outputs": [
    {
     "data": {
      "text/plain": [
       "[array([[ 1,  2,  3],\n",
       "        [13, 14, 15]]),\n",
       " array([[ 4],\n",
       "        [16]]),\n",
       " array([[ 5,  6,  7,  8,  9, 10, 11, 12],\n",
       "        [17, 18, 19, 20, 21, 22, 23, 24]])]"
      ]
     },
     "execution_count": 101,
     "metadata": {},
     "output_type": "execute_result"
    }
   ],
   "source": [
    "np.hsplit(x, (3, 4))"
   ]
  },
  {
   "cell_type": "markdown",
   "metadata": {},
   "source": [
    "* np.view(), np.copy() "
   ]
  },
  {
   "cell_type": "code",
   "execution_count": 102,
   "metadata": {},
   "outputs": [],
   "source": [
    "a = np.array([[1, 2, 3, 4], [5, 6, 7, 8], [9, 10, 11, 12]])"
   ]
  },
  {
   "cell_type": "code",
   "execution_count": 103,
   "metadata": {},
   "outputs": [
    {
     "data": {
      "text/plain": [
       "array([1, 2, 3, 4])"
      ]
     },
     "execution_count": 103,
     "metadata": {},
     "output_type": "execute_result"
    }
   ],
   "source": [
    "b1 = a[0, : ]\n",
    "b1"
   ]
  },
  {
   "cell_type": "code",
   "execution_count": 104,
   "metadata": {},
   "outputs": [
    {
     "data": {
      "text/plain": [
       "array([99,  2,  3,  4])"
      ]
     },
     "execution_count": 104,
     "metadata": {},
     "output_type": "execute_result"
    }
   ],
   "source": [
    "b1[0] = 99\n",
    "b1"
   ]
  },
  {
   "cell_type": "code",
   "execution_count": 105,
   "metadata": {},
   "outputs": [
    {
     "data": {
      "text/plain": [
       "array([[99,  2,  3,  4],\n",
       "       [ 5,  6,  7,  8],\n",
       "       [ 9, 10, 11, 12]])"
      ]
     },
     "execution_count": 105,
     "metadata": {},
     "output_type": "execute_result"
    }
   ],
   "source": [
    "# a에서 인덱스 슬라이싱으로 일부를 가져와 b1에 넣고 0번째 값을 바꿈\n",
    "# 그리고 a를 출력해보면 바꾼적이 없는 a의 0번째 자료가 b1의 0번째에서 바꾼 값으로 바뀌어 있음\n",
    "# a에서 인덱스 슬라이싱으로 자료를 가져오는 경우 메모리 상에 있는 실제 데이터를 공유하기 때문에 값이 변함\n",
    "a"
   ]
  },
  {
   "cell_type": "code",
   "execution_count": 106,
   "metadata": {},
   "outputs": [],
   "source": [
    "a = np.array([[1, 2, 3, 4], [5, 6, 7, 8], [9, 10, 11, 12]])"
   ]
  },
  {
   "cell_type": "code",
   "execution_count": 107,
   "metadata": {
    "scrolled": true
   },
   "outputs": [
    {
     "data": {
      "text/plain": [
       "array([1, 2, 3, 4])"
      ]
     },
     "execution_count": 107,
     "metadata": {},
     "output_type": "execute_result"
    }
   ],
   "source": [
    "b1 = a[0, : ].view()\n",
    "b1"
   ]
  },
  {
   "cell_type": "code",
   "execution_count": 108,
   "metadata": {},
   "outputs": [
    {
     "data": {
      "text/plain": [
       "array([99,  2,  3,  4])"
      ]
     },
     "execution_count": 108,
     "metadata": {},
     "output_type": "execute_result"
    }
   ],
   "source": [
    "b1[0] = 99\n",
    "b1"
   ]
  },
  {
   "cell_type": "code",
   "execution_count": 109,
   "metadata": {
    "scrolled": true
   },
   "outputs": [
    {
     "data": {
      "text/plain": [
       "array([[99,  2,  3,  4],\n",
       "       [ 5,  6,  7,  8],\n",
       "       [ 9, 10, 11, 12]])"
      ]
     },
     "execution_count": 109,
     "metadata": {},
     "output_type": "execute_result"
    }
   ],
   "source": [
    "a"
   ]
  },
  {
   "cell_type": "markdown",
   "metadata": {},
   "source": [
    "* .copy()를 쓰면 실제 데이터가 따로 저장되기 때문에 값의 변화가 없음"
   ]
  },
  {
   "cell_type": "code",
   "execution_count": 110,
   "metadata": {},
   "outputs": [],
   "source": [
    "a = np.array([[1, 2, 3, 4], [5, 6, 7, 8], [9, 10, 11, 12]])"
   ]
  },
  {
   "cell_type": "code",
   "execution_count": 111,
   "metadata": {
    "scrolled": true
   },
   "outputs": [
    {
     "data": {
      "text/plain": [
       "array([1, 2, 3, 4])"
      ]
     },
     "execution_count": 111,
     "metadata": {},
     "output_type": "execute_result"
    }
   ],
   "source": [
    "b1 = a[0, : ].copy()\n",
    "b1"
   ]
  },
  {
   "cell_type": "code",
   "execution_count": 112,
   "metadata": {},
   "outputs": [
    {
     "data": {
      "text/plain": [
       "array([99,  2,  3,  4])"
      ]
     },
     "execution_count": 112,
     "metadata": {},
     "output_type": "execute_result"
    }
   ],
   "source": [
    "b1[0] = 99\n",
    "b1"
   ]
  },
  {
   "cell_type": "code",
   "execution_count": 113,
   "metadata": {
    "scrolled": true
   },
   "outputs": [
    {
     "data": {
      "text/plain": [
       "array([[ 1,  2,  3,  4],\n",
       "       [ 5,  6,  7,  8],\n",
       "       [ 9, 10, 11, 12]])"
      ]
     },
     "execution_count": 113,
     "metadata": {},
     "output_type": "execute_result"
    }
   ],
   "source": [
    "# a 0번째의 값에 변화가 없음\n",
    "a"
   ]
  },
  {
   "cell_type": "markdown",
   "metadata": {},
   "source": [
    "## 10) Numpy array를 사용한 행렬 연산"
   ]
  },
  {
   "cell_type": "markdown",
   "metadata": {},
   "source": [
    "기본적인 수학함수는 배열의 각 요소별로 동작하며 연산자를 통해 동작하거나 numpy 함수모듈을 통해 동작합니다.\n",
    "\n",
    "다차원 배열간 연산시, **shape가 맞아야** 연산이 이루어집니다.\n",
    "- 요소별 합, 차, 곱, 나눗셈의 경우 shape가 일치해야 합니다.\n",
    "- dot의 경우 앞 배열의 열과 뒤 배열의 행의 크기가 일치해야 합니다"
   ]
  },
  {
   "cell_type": "code",
   "execution_count": 223,
   "metadata": {},
   "outputs": [],
   "source": [
    "data = np.array([1, 2])\n",
    "data"
   ]
  },
  {
   "cell_type": "code",
   "execution_count": 224,
   "metadata": {},
   "outputs": [
    {
     "data": {
      "text/plain": [
       "(2, 2)"
      ]
     },
     "execution_count": 224,
     "metadata": {},
     "output_type": "execute_result"
    }
   ],
   "source": [
    "x.shape"
   ]
  },
  {
   "cell_type": "code",
   "execution_count": 225,
   "metadata": {},
   "outputs": [
    {
     "data": {
      "text/plain": [
       "(2, 2)"
      ]
     },
     "execution_count": 225,
     "metadata": {},
     "output_type": "execute_result"
    }
   ],
   "source": [
    "y.shape"
   ]
  },
  {
   "cell_type": "code",
   "execution_count": 226,
   "metadata": {},
   "outputs": [
    {
     "data": {
      "text/plain": [
       "array([1, 1])"
      ]
     },
     "execution_count": 226,
     "metadata": {},
     "output_type": "execute_result"
    }
   ],
   "source": [
    "ones = np.ones(2, dtype=int)\n",
    "ones"
   ]
  },
  {
   "cell_type": "markdown",
   "metadata": {},
   "source": [
    "### (1) 행렬 사칙연산"
   ]
  },
  {
   "cell_type": "code",
   "execution_count": 233,
   "metadata": {
    "scrolled": true
   },
   "outputs": [
    {
     "data": {
      "text/plain": [
       "array([[ 6.,  8.],\n",
       "       [10., 12.]])"
      ]
     },
     "execution_count": 233,
     "metadata": {},
     "output_type": "execute_result"
    }
   ],
   "source": [
    "data + ones"
   ]
  },
  {
   "cell_type": "markdown",
   "metadata": {},
   "source": [
    "![image](https://numpy.org/doc/stable/_images/np_data_plus_ones.png)"
   ]
  },
  {
   "cell_type": "code",
   "execution_count": 232,
   "metadata": {},
   "outputs": [
    {
     "data": {
      "text/plain": [
       "array([[-4., -4.],\n",
       "       [-4., -4.]])"
      ]
     },
     "execution_count": 232,
     "metadata": {},
     "output_type": "execute_result"
    }
   ],
   "source": [
    "data - ones"
   ]
  },
  {
   "cell_type": "code",
   "execution_count": 230,
   "metadata": {},
   "outputs": [
    {
     "data": {
      "text/plain": [
       "array([[ 5., 12.],\n",
       "       [21., 32.]])"
      ]
     },
     "execution_count": 230,
     "metadata": {},
     "output_type": "execute_result"
    }
   ],
   "source": [
    "data * data"
   ]
  },
  {
   "cell_type": "code",
   "execution_count": 231,
   "metadata": {
    "scrolled": true
   },
   "outputs": [
    {
     "data": {
      "text/plain": [
       "array([[0.2       , 0.33333333],\n",
       "       [0.42857143, 0.5       ]])"
      ]
     },
     "execution_count": 231,
     "metadata": {},
     "output_type": "execute_result"
    }
   ],
   "source": [
    "data / data"
   ]
  },
  {
   "cell_type": "markdown",
   "metadata": {},
   "source": [
    "![image3](https://numpy.org/doc/stable/_images/np_sub_mult_divide.png)"
   ]
  },
  {
   "cell_type": "markdown",
   "metadata": {},
   "source": [
    "### (2) 행렬연산 함수"
   ]
  },
  {
   "cell_type": "code",
   "execution_count": 235,
   "metadata": {},
   "outputs": [],
   "source": [
    "x = np.array([[1., 2.], [3., 4.]])\n",
    "y = np.array([[5., 6.], [7., 8.]])"
   ]
  },
  {
   "cell_type": "markdown",
   "metadata": {},
   "source": [
    "* sum()"
   ]
  },
  {
   "cell_type": "code",
   "execution_count": 236,
   "metadata": {},
   "outputs": [
    {
     "data": {
      "text/plain": [
       "array([[ 9., 12.],\n",
       "       [11., 14.]])"
      ]
     },
     "execution_count": 236,
     "metadata": {},
     "output_type": "execute_result"
    }
   ],
   "source": [
    "# sum()\n",
    "sum(x, y)"
   ]
  },
  {
   "cell_type": "code",
   "execution_count": 237,
   "metadata": {},
   "outputs": [
    {
     "data": {
      "text/plain": [
       "array([[1, 1],\n",
       "       [2, 2]])"
      ]
     },
     "execution_count": 237,
     "metadata": {},
     "output_type": "execute_result"
    }
   ],
   "source": [
    "b = np.array([[1, 1], [2, 2]])\n",
    "b"
   ]
  },
  {
   "cell_type": "code",
   "execution_count": 238,
   "metadata": {
    "scrolled": true
   },
   "outputs": [
    {
     "data": {
      "text/plain": [
       "array([3, 3])"
      ]
     },
     "execution_count": 238,
     "metadata": {},
     "output_type": "execute_result"
    }
   ],
   "source": [
    "# 행끼리 더함\n",
    "b.sum(axis=0)"
   ]
  },
  {
   "cell_type": "code",
   "execution_count": 239,
   "metadata": {
    "scrolled": true
   },
   "outputs": [
    {
     "data": {
      "text/plain": [
       "array([2, 4])"
      ]
     },
     "execution_count": 239,
     "metadata": {},
     "output_type": "execute_result"
    }
   ],
   "source": [
    "# 열끼리 더함\n",
    "b.sum(axis=1)"
   ]
  },
  {
   "cell_type": "code",
   "execution_count": 240,
   "metadata": {},
   "outputs": [
    {
     "data": {
      "text/plain": [
       "6"
      ]
     },
     "execution_count": 240,
     "metadata": {},
     "output_type": "execute_result"
    }
   ],
   "source": [
    "# 모든 값을 더함\n",
    "b.sum()"
   ]
  },
  {
   "cell_type": "markdown",
   "metadata": {},
   "source": [
    "* np.add()"
   ]
  },
  {
   "cell_type": "code",
   "execution_count": 251,
   "metadata": {},
   "outputs": [
    {
     "data": {
      "text/plain": [
       "array([[ 6.,  8.],\n",
       "       [10., 12.]])"
      ]
     },
     "execution_count": 251,
     "metadata": {},
     "output_type": "execute_result"
    }
   ],
   "source": [
    "# 더하기\n",
    "np.add(x, y)"
   ]
  },
  {
   "cell_type": "markdown",
   "metadata": {},
   "source": [
    "* np.subtract()"
   ]
  },
  {
   "cell_type": "code",
   "execution_count": 244,
   "metadata": {},
   "outputs": [
    {
     "data": {
      "text/plain": [
       "array([[-4., -4.],\n",
       "       [-4., -4.]])"
      ]
     },
     "execution_count": 244,
     "metadata": {},
     "output_type": "execute_result"
    }
   ],
   "source": [
    "# 빼기\n",
    "np.subtract(x, y)"
   ]
  },
  {
   "cell_type": "markdown",
   "metadata": {},
   "source": [
    "* multiply()"
   ]
  },
  {
   "cell_type": "code",
   "execution_count": 245,
   "metadata": {},
   "outputs": [
    {
     "data": {
      "text/plain": [
       "array([[ 5., 12.],\n",
       "       [21., 32.]])"
      ]
     },
     "execution_count": 245,
     "metadata": {},
     "output_type": "execute_result"
    }
   ],
   "source": [
    "# 곱하기\n",
    "np.multiply(x, y)"
   ]
  },
  {
   "cell_type": "markdown",
   "metadata": {},
   "source": [
    "* divide()"
   ]
  },
  {
   "cell_type": "code",
   "execution_count": 247,
   "metadata": {},
   "outputs": [
    {
     "data": {
      "text/plain": [
       "array([[0.2       , 0.33333333],\n",
       "       [0.42857143, 0.5       ]])"
      ]
     },
     "execution_count": 247,
     "metadata": {},
     "output_type": "execute_result"
    }
   ],
   "source": [
    "# 나누기\n",
    "np.divide(x, y)"
   ]
  },
  {
   "cell_type": "markdown",
   "metadata": {},
   "source": [
    "* np.sqrt() - 요소별 제곱근"
   ]
  },
  {
   "cell_type": "code",
   "execution_count": 252,
   "metadata": {},
   "outputs": [
    {
     "data": {
      "text/plain": [
       "array([[1.        , 1.41421356],\n",
       "       [1.73205081, 2.        ]])"
      ]
     },
     "execution_count": 252,
     "metadata": {},
     "output_type": "execute_result"
    }
   ],
   "source": [
    "np.sqrt(x)"
   ]
  },
  {
   "cell_type": "markdown",
   "metadata": {},
   "source": [
    "* max()"
   ]
  },
  {
   "cell_type": "code",
   "execution_count": 208,
   "metadata": {},
   "outputs": [
    {
     "data": {
      "text/plain": [
       "9"
      ]
     },
     "execution_count": 208,
     "metadata": {},
     "output_type": "execute_result"
    }
   ],
   "source": [
    "a.max()"
   ]
  },
  {
   "cell_type": "markdown",
   "metadata": {},
   "source": [
    "* min()"
   ]
  },
  {
   "cell_type": "code",
   "execution_count": 209,
   "metadata": {},
   "outputs": [
    {
     "data": {
      "text/plain": [
       "1"
      ]
     },
     "execution_count": 209,
     "metadata": {},
     "output_type": "execute_result"
    }
   ],
   "source": [
    "a.min()"
   ]
  },
  {
   "cell_type": "markdown",
   "metadata": {},
   "source": [
    "* mean()"
   ]
  },
  {
   "cell_type": "code",
   "execution_count": 210,
   "metadata": {},
   "outputs": [
    {
     "data": {
      "text/plain": [
       "5.0"
      ]
     },
     "execution_count": 210,
     "metadata": {},
     "output_type": "execute_result"
    }
   ],
   "source": [
    "a.mean()"
   ]
  },
  {
   "cell_type": "markdown",
   "metadata": {},
   "source": [
    "* prod() 행렬 요소의 곱"
   ]
  },
  {
   "cell_type": "code",
   "execution_count": 214,
   "metadata": {},
   "outputs": [
    {
     "data": {
      "text/plain": [
       "array([[1, 2, 3],\n",
       "       [4, 5, 6],\n",
       "       [7, 8, 9]])"
      ]
     },
     "execution_count": 214,
     "metadata": {},
     "output_type": "execute_result"
    }
   ],
   "source": [
    "a"
   ]
  },
  {
   "cell_type": "code",
   "execution_count": 211,
   "metadata": {
    "scrolled": true
   },
   "outputs": [
    {
     "data": {
      "text/plain": [
       "362880"
      ]
     },
     "execution_count": 211,
     "metadata": {},
     "output_type": "execute_result"
    }
   ],
   "source": [
    "a.prod()"
   ]
  },
  {
   "cell_type": "code",
   "execution_count": 212,
   "metadata": {},
   "outputs": [
    {
     "data": {
      "text/plain": [
       "array([ 28,  80, 162])"
      ]
     },
     "execution_count": 212,
     "metadata": {},
     "output_type": "execute_result"
    }
   ],
   "source": [
    "a.prod(axis = 0)"
   ]
  },
  {
   "cell_type": "code",
   "execution_count": 213,
   "metadata": {},
   "outputs": [
    {
     "data": {
      "text/plain": [
       "array([  6, 120, 504])"
      ]
     },
     "execution_count": 213,
     "metadata": {},
     "output_type": "execute_result"
    }
   ],
   "source": [
    "a.prod(axis = 1)"
   ]
  },
  {
   "cell_type": "markdown",
   "metadata": {},
   "source": [
    "* std 표준편차"
   ]
  },
  {
   "cell_type": "code",
   "execution_count": 205,
   "metadata": {
    "scrolled": true
   },
   "outputs": [
    {
     "data": {
      "text/plain": [
       "1.707825127659933"
      ]
     },
     "execution_count": 205,
     "metadata": {},
     "output_type": "execute_result"
    }
   ],
   "source": [
    "data.std()"
   ]
  },
  {
   "cell_type": "markdown",
   "metadata": {},
   "source": [
    "* var 분산 - 표본 분산이고 결측값이 있어도 결측값이 아닌 값들만 계산해 결과를 보여준다.\n",
    "* 통계학에서 일반적으로 사용하는 불편분산 사용시에는 ddof=1을 옵션으로 주어야 한다"
   ]
  },
  {
   "cell_type": "code",
   "execution_count": 206,
   "metadata": {
    "scrolled": true
   },
   "outputs": [
    {
     "data": {
      "text/plain": [
       "2.9166666666666665"
      ]
     },
     "execution_count": 206,
     "metadata": {},
     "output_type": "execute_result"
    }
   ],
   "source": [
    "#표본 분산\n",
    "data.var()"
   ]
  },
  {
   "cell_type": "code",
   "execution_count": 207,
   "metadata": {},
   "outputs": [
    {
     "data": {
      "text/plain": [
       "3.5"
      ]
     },
     "execution_count": 207,
     "metadata": {},
     "output_type": "execute_result"
    }
   ],
   "source": [
    "data.var(ddof=1)"
   ]
  },
  {
   "cell_type": "markdown",
   "metadata": {},
   "source": [
    "* cov() 공분산"
   ]
  },
  {
   "cell_type": "code",
   "execution_count": 193,
   "metadata": {},
   "outputs": [
    {
     "data": {
      "text/plain": [
       "array(3.5)"
      ]
     },
     "execution_count": 193,
     "metadata": {},
     "output_type": "execute_result"
    }
   ],
   "source": [
    "np.cov(data)"
   ]
  },
  {
   "cell_type": "markdown",
   "metadata": {},
   "source": [
    "![image6](https://numpy.org/doc/stable/_images/np_aggregation.png)"
   ]
  },
  {
   "cell_type": "code",
   "execution_count": 145,
   "metadata": {},
   "outputs": [],
   "source": [
    "a = np.array([[0.45053314, 0.17296777, 0.34376245, 0.5510652],\n",
    "              [0.54627315, 0.05093587, 0.40067661, 0.55645993],\n",
    "              [0.12697628, 0.82485143, 0.26590556, 0.56917101]])"
   ]
  },
  {
   "cell_type": "code",
   "execution_count": 146,
   "metadata": {},
   "outputs": [
    {
     "data": {
      "text/plain": [
       "4.8595784"
      ]
     },
     "execution_count": 146,
     "metadata": {},
     "output_type": "execute_result"
    }
   ],
   "source": [
    "a.sum()"
   ]
  },
  {
   "cell_type": "code",
   "execution_count": 147,
   "metadata": {},
   "outputs": [
    {
     "data": {
      "text/plain": [
       "0.05093587"
      ]
     },
     "execution_count": 147,
     "metadata": {},
     "output_type": "execute_result"
    }
   ],
   "source": [
    "a.min()"
   ]
  },
  {
   "cell_type": "code",
   "execution_count": 148,
   "metadata": {},
   "outputs": [
    {
     "data": {
      "text/plain": [
       "array([0.12697628, 0.05093587, 0.26590556, 0.5510652 ])"
      ]
     },
     "execution_count": 148,
     "metadata": {},
     "output_type": "execute_result"
    }
   ],
   "source": [
    "a.min(axis=0)"
   ]
  },
  {
   "cell_type": "markdown",
   "metadata": {},
   "source": [
    "Numpy에선 벡터의 내적, 벡터와 행렬의 곱, 행렬곱을 위해 `*`대신 `dot`함수를 사용합니다.\n",
    "\n",
    "`dot`은 Numpy 모듈 함수로서도 배열 객체의 메소드로서도 이용 가능한 합수입니다"
   ]
  },
  {
   "cell_type": "code",
   "execution_count": 255,
   "metadata": {},
   "outputs": [
    {
     "name": "stdout",
     "output_type": "stream",
     "text": [
      "219\n",
      "219\n"
     ]
    }
   ],
   "source": [
    "import numpy as np\n",
    "\n",
    "x = np.array([[1,2],[3,4]])\n",
    "y = np.array([[5,6],[7,8]])\n",
    "\n",
    "v = np.array([9,10])\n",
    "w = np.array([11, 12])\n",
    "\n",
    "# 벡터의 내적; 둘 다 결과는 219\n",
    "print(v.dot(w))\n",
    "print(np.dot(v, w))"
   ]
  },
  {
   "cell_type": "code",
   "execution_count": 256,
   "metadata": {},
   "outputs": [
    {
     "name": "stdout",
     "output_type": "stream",
     "text": [
      "[29 67]\n",
      "[29 67]\n"
     ]
    }
   ],
   "source": [
    "# 행렬과 벡터의 곱; 둘 다 결과는 dimension 1인 배열 [29 67]\n",
    "print(x.dot(v))\n",
    "print(np.dot(x, v))"
   ]
  },
  {
   "cell_type": "code",
   "execution_count": 257,
   "metadata": {},
   "outputs": [
    {
     "name": "stdout",
     "output_type": "stream",
     "text": [
      "[[19 22]\n",
      " [43 50]]\n",
      "[[19 22]\n",
      " [43 50]]\n"
     ]
    }
   ],
   "source": [
    "# 행렬곱; 둘 다 결과는 dimension 2인 배열\n",
    "# [[19 22]\n",
    "#  [43 50]]\n",
    "print(x.dot(y))\n",
    "print(np.dot(x, y))"
   ]
  },
  {
   "cell_type": "markdown",
   "metadata": {},
   "source": [
    "## 11) 브로드케스팅(Brodcasting)\n",
    "* 백터와 스칼라 또는 메트릭스와 벡터를 연산할 때 자동으로 행렬 크기를 맞춰주는 것"
   ]
  },
  {
   "cell_type": "code",
   "execution_count": 136,
   "metadata": {},
   "outputs": [
    {
     "data": {
      "text/plain": [
       "array([1., 2.])"
      ]
     },
     "execution_count": 136,
     "metadata": {},
     "output_type": "execute_result"
    }
   ],
   "source": [
    "data = np.array([1.0, 2.0])\n",
    "data"
   ]
  },
  {
   "cell_type": "code",
   "execution_count": 137,
   "metadata": {},
   "outputs": [
    {
     "data": {
      "text/plain": [
       "array([1.6, 3.2])"
      ]
     },
     "execution_count": 137,
     "metadata": {},
     "output_type": "execute_result"
    }
   ],
   "source": [
    "data * 1.6"
   ]
  },
  {
   "cell_type": "markdown",
   "metadata": {},
   "source": [
    "![image4](https://numpy.org/doc/stable/_images/np_multiply_broadcasting.png)"
   ]
  },
  {
   "cell_type": "markdown",
   "metadata": {},
   "source": [
    "## 12) 2-D array / matrics 2차원 배열 / 매트릭스 만들기"
   ]
  },
  {
   "cell_type": "code",
   "execution_count": 149,
   "metadata": {},
   "outputs": [
    {
     "data": {
      "text/plain": [
       "array([[1, 2],\n",
       "       [3, 4],\n",
       "       [5, 6]])"
      ]
     },
     "execution_count": 149,
     "metadata": {},
     "output_type": "execute_result"
    }
   ],
   "source": [
    "data = np.array([[1, 2], [3, 4], [5, 6]])\n",
    "data"
   ]
  },
  {
   "cell_type": "markdown",
   "metadata": {},
   "source": [
    "![image5](https://numpy.org/doc/stable/_images/np_create_matrix.png)"
   ]
  },
  {
   "cell_type": "markdown",
   "metadata": {},
   "source": [
    "* 인덱싱 슬라이싱"
   ]
  },
  {
   "cell_type": "code",
   "execution_count": 152,
   "metadata": {},
   "outputs": [
    {
     "data": {
      "text/plain": [
       "2"
      ]
     },
     "execution_count": 152,
     "metadata": {},
     "output_type": "execute_result"
    }
   ],
   "source": [
    "# 0번째행, 1번째 열의 자료 인덱싱\n",
    "data[0, 1]"
   ]
  },
  {
   "cell_type": "code",
   "execution_count": 153,
   "metadata": {},
   "outputs": [
    {
     "data": {
      "text/plain": [
       "array([[3, 4],\n",
       "       [5, 6]])"
      ]
     },
     "execution_count": 153,
     "metadata": {},
     "output_type": "execute_result"
    }
   ],
   "source": [
    "# 1행~2행 슬라이싱\n",
    "data[1:3]"
   ]
  },
  {
   "cell_type": "code",
   "execution_count": 154,
   "metadata": {},
   "outputs": [
    {
     "data": {
      "text/plain": [
       "array([1, 3])"
      ]
     },
     "execution_count": 154,
     "metadata": {},
     "output_type": "execute_result"
    }
   ],
   "source": [
    "# 0~2행의 0번째 열 \n",
    "data[0:2, 0]"
   ]
  },
  {
   "cell_type": "markdown",
   "metadata": {},
   "source": [
    "* 행렬 전체에 대한 max, min, sum"
   ]
  },
  {
   "cell_type": "code",
   "execution_count": 155,
   "metadata": {},
   "outputs": [
    {
     "data": {
      "text/plain": [
       "6"
      ]
     },
     "execution_count": 155,
     "metadata": {},
     "output_type": "execute_result"
    }
   ],
   "source": [
    "data.max()"
   ]
  },
  {
   "cell_type": "code",
   "execution_count": 156,
   "metadata": {},
   "outputs": [
    {
     "data": {
      "text/plain": [
       "1"
      ]
     },
     "execution_count": 156,
     "metadata": {},
     "output_type": "execute_result"
    }
   ],
   "source": [
    "data.min()"
   ]
  },
  {
   "cell_type": "code",
   "execution_count": 157,
   "metadata": {},
   "outputs": [
    {
     "data": {
      "text/plain": [
       "21"
      ]
     },
     "execution_count": 157,
     "metadata": {},
     "output_type": "execute_result"
    }
   ],
   "source": [
    "data.sum()"
   ]
  },
  {
   "cell_type": "markdown",
   "metadata": {},
   "source": [
    "![image6](https://numpy.org/doc/stable/_images/np_matrix_aggregation.png)"
   ]
  },
  {
   "cell_type": "markdown",
   "metadata": {},
   "source": [
    "* 축 방향에 따른 max, min, sum 함수 연산 결과"
   ]
  },
  {
   "cell_type": "code",
   "execution_count": 159,
   "metadata": {},
   "outputs": [
    {
     "data": {
      "text/plain": [
       "array([[1, 2],\n",
       "       [5, 3],\n",
       "       [4, 6]])"
      ]
     },
     "execution_count": 159,
     "metadata": {},
     "output_type": "execute_result"
    }
   ],
   "source": [
    "data = np.array([[1, 2], [5, 3], [4, 6]])\n",
    "data"
   ]
  },
  {
   "cell_type": "code",
   "execution_count": 160,
   "metadata": {},
   "outputs": [
    {
     "data": {
      "text/plain": [
       "array([5, 6])"
      ]
     },
     "execution_count": 160,
     "metadata": {},
     "output_type": "execute_result"
    }
   ],
   "source": [
    "data.max(axis=0)"
   ]
  },
  {
   "cell_type": "code",
   "execution_count": 162,
   "metadata": {
    "scrolled": false
   },
   "outputs": [
    {
     "data": {
      "text/plain": [
       "array([2, 5, 6])"
      ]
     },
     "execution_count": 162,
     "metadata": {},
     "output_type": "execute_result"
    }
   ],
   "source": [
    "data.max(axis=1)"
   ]
  },
  {
   "cell_type": "code",
   "execution_count": 164,
   "metadata": {},
   "outputs": [
    {
     "data": {
      "text/plain": [
       "array([1, 2])"
      ]
     },
     "execution_count": 164,
     "metadata": {},
     "output_type": "execute_result"
    }
   ],
   "source": [
    "data.min(axis=0)"
   ]
  },
  {
   "cell_type": "code",
   "execution_count": 165,
   "metadata": {
    "scrolled": true
   },
   "outputs": [
    {
     "data": {
      "text/plain": [
       "array([1, 3, 4])"
      ]
     },
     "execution_count": 165,
     "metadata": {},
     "output_type": "execute_result"
    }
   ],
   "source": [
    "data.min(axis=1)"
   ]
  },
  {
   "cell_type": "code",
   "execution_count": 166,
   "metadata": {},
   "outputs": [
    {
     "data": {
      "text/plain": [
       "array([10, 11])"
      ]
     },
     "execution_count": 166,
     "metadata": {},
     "output_type": "execute_result"
    }
   ],
   "source": [
    "data.sum(axis=0)"
   ]
  },
  {
   "cell_type": "code",
   "execution_count": 167,
   "metadata": {
    "scrolled": true
   },
   "outputs": [
    {
     "data": {
      "text/plain": [
       "array([ 3,  8, 10])"
      ]
     },
     "execution_count": 167,
     "metadata": {},
     "output_type": "execute_result"
    }
   ],
   "source": [
    "data.sum(axis=1)"
   ]
  },
  {
   "cell_type": "markdown",
   "metadata": {},
   "source": [
    "![image6](https://numpy.org/doc/stable/_images/np_matrix_aggregation_row.png)"
   ]
  },
  {
   "cell_type": "markdown",
   "metadata": {},
   "source": [
    "* metrix와 metrix 연산 (사이즈가 같은 경우)"
   ]
  },
  {
   "cell_type": "code",
   "execution_count": 4,
   "metadata": {},
   "outputs": [
    {
     "data": {
      "text/plain": [
       "array([[1, 2],\n",
       "       [3, 4]])"
      ]
     },
     "execution_count": 4,
     "metadata": {},
     "output_type": "execute_result"
    }
   ],
   "source": [
    "data = np.array([[1, 2], [3, 4]])\n",
    "data"
   ]
  },
  {
   "cell_type": "code",
   "execution_count": 6,
   "metadata": {},
   "outputs": [
    {
     "data": {
      "text/plain": [
       "array([[1, 1],\n",
       "       [1, 1]])"
      ]
     },
     "execution_count": 6,
     "metadata": {},
     "output_type": "execute_result"
    }
   ],
   "source": [
    "ones = np.array([[1, 1], [1, 1]])\n",
    "ones"
   ]
  },
  {
   "cell_type": "code",
   "execution_count": 7,
   "metadata": {},
   "outputs": [
    {
     "data": {
      "text/plain": [
       "array([[2, 3],\n",
       "       [4, 5]])"
      ]
     },
     "execution_count": 7,
     "metadata": {},
     "output_type": "execute_result"
    }
   ],
   "source": [
    "data + ones"
   ]
  },
  {
   "cell_type": "markdown",
   "metadata": {},
   "source": [
    "![image7](https://numpy.org/doc/stable/_images/np_matrix_arithmetic.png)"
   ]
  },
  {
   "cell_type": "markdown",
   "metadata": {},
   "source": [
    "* matrix와 matrix 연산 (사이즈가 다른 경우)\n",
    "* 크기가 작은 matrix가 브로드캐스팅 되어 연산됨"
   ]
  },
  {
   "cell_type": "code",
   "execution_count": 12,
   "metadata": {},
   "outputs": [
    {
     "data": {
      "text/plain": [
       "array([[1, 2],\n",
       "       [3, 4],\n",
       "       [5, 6]])"
      ]
     },
     "execution_count": 12,
     "metadata": {},
     "output_type": "execute_result"
    }
   ],
   "source": [
    "data = np.array([[1, 2], [3, 4], [5, 6]])\n",
    "data"
   ]
  },
  {
   "cell_type": "code",
   "execution_count": 13,
   "metadata": {},
   "outputs": [
    {
     "data": {
      "text/plain": [
       "array([[1, 1]])"
      ]
     },
     "execution_count": 13,
     "metadata": {},
     "output_type": "execute_result"
    }
   ],
   "source": [
    "ones_row = np.array([[1, 1]])\n",
    "ones_row"
   ]
  },
  {
   "cell_type": "code",
   "execution_count": 11,
   "metadata": {},
   "outputs": [
    {
     "data": {
      "text/plain": [
       "array([[2, 3],\n",
       "       [4, 5],\n",
       "       [6, 7]])"
      ]
     },
     "execution_count": 11,
     "metadata": {},
     "output_type": "execute_result"
    }
   ],
   "source": [
    "data + ones_row"
   ]
  },
  {
   "cell_type": "code",
   "execution_count": 15,
   "metadata": {},
   "outputs": [
    {
     "data": {
      "text/plain": [
       "array([[1, 1, 1]])"
      ]
     },
     "execution_count": 15,
     "metadata": {},
     "output_type": "execute_result"
    }
   ],
   "source": [
    "ones_row2 = np.array([[1, 1, 1]])\n",
    "ones_row2"
   ]
  },
  {
   "cell_type": "code",
   "execution_count": 19,
   "metadata": {},
   "outputs": [
    {
     "ename": "ValueError",
     "evalue": "operands could not be broadcast together with shapes (3,2) (1,3) ",
     "output_type": "error",
     "traceback": [
      "\u001b[1;31m---------------------------------------------------------------------------\u001b[0m",
      "\u001b[1;31mValueError\u001b[0m                                Traceback (most recent call last)",
      "Input \u001b[1;32mIn [19]\u001b[0m, in \u001b[0;36m<cell line: 1>\u001b[1;34m()\u001b[0m\n\u001b[1;32m----> 1\u001b[0m \u001b[43mdata\u001b[49m\u001b[43m \u001b[49m\u001b[38;5;241;43m+\u001b[39;49m\u001b[43m \u001b[49m\u001b[43mones_row2\u001b[49m\n",
      "\u001b[1;31mValueError\u001b[0m: operands could not be broadcast together with shapes (3,2) (1,3) "
     ]
    }
   ],
   "source": [
    "data + ones_row2"
   ]
  },
  {
   "cell_type": "code",
   "execution_count": 18,
   "metadata": {},
   "outputs": [
    {
     "data": {
      "text/plain": [
       "array([[1],\n",
       "       [1],\n",
       "       [1]])"
      ]
     },
     "execution_count": 18,
     "metadata": {},
     "output_type": "execute_result"
    }
   ],
   "source": [
    "ones_row2.T"
   ]
  },
  {
   "cell_type": "code",
   "execution_count": 17,
   "metadata": {
    "scrolled": true
   },
   "outputs": [
    {
     "data": {
      "text/plain": [
       "array([[2, 3],\n",
       "       [4, 5],\n",
       "       [6, 7]])"
      ]
     },
     "execution_count": 17,
     "metadata": {},
     "output_type": "execute_result"
    }
   ],
   "source": [
    "data + ones_row2.T"
   ]
  },
  {
   "cell_type": "markdown",
   "metadata": {},
   "source": [
    "![image8](https://numpy.org/doc/stable/_images/np_matrix_broadcasting.png)"
   ]
  },
  {
   "cell_type": "code",
   "execution_count": 14,
   "metadata": {
    "scrolled": true
   },
   "outputs": [
    {
     "data": {
      "text/plain": [
       "array([[[1., 1.],\n",
       "        [1., 1.],\n",
       "        [1., 1.]],\n",
       "\n",
       "       [[1., 1.],\n",
       "        [1., 1.],\n",
       "        [1., 1.]],\n",
       "\n",
       "       [[1., 1.],\n",
       "        [1., 1.],\n",
       "        [1., 1.]],\n",
       "\n",
       "       [[1., 1.],\n",
       "        [1., 1.],\n",
       "        [1., 1.]]])"
      ]
     },
     "execution_count": 14,
     "metadata": {},
     "output_type": "execute_result"
    }
   ],
   "source": [
    "np.ones((4, 3, 2))"
   ]
  },
  {
   "cell_type": "markdown",
   "metadata": {},
   "source": [
    "## 13) random 행렬 만들기"
   ]
  },
  {
   "cell_type": "code",
   "execution_count": null,
   "metadata": {},
   "outputs": [],
   "source": []
  },
  {
   "cell_type": "code",
   "execution_count": 24,
   "metadata": {},
   "outputs": [],
   "source": [
    "# rng에 넘파이 랜덤 함수 넣기\n",
    "rng = np.random.default_rng()"
   ]
  },
  {
   "cell_type": "code",
   "execution_count": 26,
   "metadata": {
    "scrolled": true
   },
   "outputs": [
    {
     "data": {
      "text/plain": [
       "array([0.19563946, 0.59240891, 0.18579804])"
      ]
     },
     "execution_count": 26,
     "metadata": {},
     "output_type": "execute_result"
    }
   ],
   "source": [
    "# 랜덤 벡터 만들기\n",
    "rng.random(3) "
   ]
  },
  {
   "cell_type": "code",
   "execution_count": 28,
   "metadata": {
    "scrolled": true
   },
   "outputs": [
    {
     "data": {
      "text/plain": [
       "array([[0.65735478, 0.47146792],\n",
       "       [0.97086736, 0.84513199],\n",
       "       [0.9017169 , 0.13335327]])"
      ]
     },
     "execution_count": 28,
     "metadata": {},
     "output_type": "execute_result"
    }
   ],
   "source": [
    "# 랜덤 매트릭스 만들기\n",
    "rng.random((3, 2)) "
   ]
  },
  {
   "cell_type": "code",
   "execution_count": 29,
   "metadata": {},
   "outputs": [
    {
     "data": {
      "text/plain": [
       "array([[3, 2, 2, 0],\n",
       "       [2, 2, 1, 4]], dtype=int64)"
      ]
     },
     "execution_count": 29,
     "metadata": {},
     "output_type": "execute_result"
    }
   ],
   "source": [
    "# 정수형 랜덤 매트릭스 만들기\n",
    "rng.integers(5, size=(2, 4))"
   ]
  },
  {
   "cell_type": "markdown",
   "metadata": {},
   "source": [
    "## 14) 행렬에서 유일값을 찾고 갯수를 세고 싶을 때\n",
    "* np.unique()"
   ]
  },
  {
   "cell_type": "markdown",
   "metadata": {},
   "source": [
    "### (1) 벡터에서 유일값 찾고 갯수 세기"
   ]
  },
  {
   "cell_type": "code",
   "execution_count": 31,
   "metadata": {},
   "outputs": [],
   "source": [
    "a = np.array([11, 11, 12, 13, 14, 15, 16, 17, 12, 13, 11, 14, 18, 19, 20])"
   ]
  },
  {
   "cell_type": "markdown",
   "metadata": {},
   "source": [
    "unique_values = np.unique(a)\n",
    "print(unique_values)"
   ]
  },
  {
   "cell_type": "markdown",
   "metadata": {},
   "source": [
    "* return_index = True로 유일값의 인덱스 보기"
   ]
  },
  {
   "cell_type": "code",
   "execution_count": 33,
   "metadata": {},
   "outputs": [
    {
     "name": "stdout",
     "output_type": "stream",
     "text": [
      "[ 0  2  3  4  5  6  7 12 13 14]\n"
     ]
    }
   ],
   "source": [
    "unique_values, indices_list = np.unique(a, return_index=True)\n",
    "print(indices_list)"
   ]
  },
  {
   "cell_type": "code",
   "execution_count": 35,
   "metadata": {},
   "outputs": [
    {
     "name": "stdout",
     "output_type": "stream",
     "text": [
      "[11 12 13 14 15 16 17 18 19 20]\n",
      "[3 2 2 2 1 1 1 1 1 1]\n"
     ]
    }
   ],
   "source": [
    "unique_values, occurrence_count = np.unique(a, return_counts=True)\n",
    "print(unique_values, occurrence_count, sep=\"\\n\")"
   ]
  },
  {
   "cell_type": "markdown",
   "metadata": {},
   "source": [
    "### (2) 매트릭스에서 유일값 찾고 갯수 세기"
   ]
  },
  {
   "cell_type": "code",
   "execution_count": 54,
   "metadata": {},
   "outputs": [
    {
     "data": {
      "text/plain": [
       "array([[ 1,  2,  3,  2],\n",
       "       [ 5,  2,  7,  2],\n",
       "       [ 9,  2, 11,  2],\n",
       "       [ 1,  2,  3,  2],\n",
       "       [ 1,  2,  3,  2]])"
      ]
     },
     "execution_count": 54,
     "metadata": {},
     "output_type": "execute_result"
    }
   ],
   "source": [
    "a_2d = np.array([[1, 2, 3, 2], [5, 2, 7, 2], [9, 2, 11, 2], [1, 2, 3, 2], [1, 2, 3, 2]])\n",
    "a_2d"
   ]
  },
  {
   "cell_type": "code",
   "execution_count": 55,
   "metadata": {},
   "outputs": [
    {
     "data": {
      "text/plain": [
       "array([ 1,  2,  3,  5,  7,  9, 11])"
      ]
     },
     "execution_count": 55,
     "metadata": {},
     "output_type": "execute_result"
    }
   ],
   "source": [
    "unique_values = np.unique(a_2d)\n",
    "unique_values"
   ]
  },
  {
   "cell_type": "markdown",
   "metadata": {},
   "source": [
    "* 유일 값으로 구성된 행 찾기 "
   ]
  },
  {
   "cell_type": "code",
   "execution_count": 56,
   "metadata": {},
   "outputs": [
    {
     "data": {
      "text/plain": [
       "array([[ 1,  2,  3,  2],\n",
       "       [ 5,  2,  7,  2],\n",
       "       [ 9,  2, 11,  2]])"
      ]
     },
     "execution_count": 56,
     "metadata": {},
     "output_type": "execute_result"
    }
   ],
   "source": [
    "unique_rows = np.unique(a_2d, axis=0)\n",
    "unique_rows"
   ]
  },
  {
   "cell_type": "markdown",
   "metadata": {},
   "source": [
    "* 유일값으로 구성된 열 찾기"
   ]
  },
  {
   "cell_type": "code",
   "execution_count": 51,
   "metadata": {
    "scrolled": true
   },
   "outputs": [
    {
     "data": {
      "text/plain": [
       "array([[ 1,  2,  3,  2],\n",
       "       [ 5,  2,  7,  2],\n",
       "       [ 9,  2, 11,  2],\n",
       "       [ 1,  2,  3,  2],\n",
       "       [ 1,  2,  3,  2]])"
      ]
     },
     "execution_count": 51,
     "metadata": {},
     "output_type": "execute_result"
    }
   ],
   "source": [
    "a_2d2 = \n",
    "a_2d2"
   ]
  },
  {
   "cell_type": "code",
   "execution_count": 57,
   "metadata": {
    "scrolled": true
   },
   "outputs": [
    {
     "data": {
      "text/plain": [
       "array([[ 1,  2,  3],\n",
       "       [ 5,  2,  7],\n",
       "       [ 9,  2, 11],\n",
       "       [ 1,  2,  3],\n",
       "       [ 1,  2,  3]])"
      ]
     },
     "execution_count": 57,
     "metadata": {},
     "output_type": "execute_result"
    }
   ],
   "source": [
    "unique_cols = np.unique(a_2d2, axis=1)\n",
    "unique_cols"
   ]
  },
  {
   "cell_type": "code",
   "execution_count": 58,
   "metadata": {},
   "outputs": [
    {
     "data": {
      "text/plain": [
       "array([[ 1,  2,  3,  2],\n",
       "       [ 5,  2,  7,  2],\n",
       "       [ 9,  2, 11,  2]])"
      ]
     },
     "execution_count": 58,
     "metadata": {},
     "output_type": "execute_result"
    }
   ],
   "source": [
    "unique_rows = np.unique(a_2d2, axis=0)\n",
    "unique_rows"
   ]
  },
  {
   "cell_type": "markdown",
   "metadata": {},
   "source": [
    "## 15) Transposing(행렬 뒤집기), reshaping(구조 바꾸기)"
   ]
  },
  {
   "cell_type": "markdown",
   "metadata": {},
   "source": [
    "### (1) 전치행렬을 만들기 위해서 행렬을 뒤집어야 할 때 \n"
   ]
  },
  {
   "cell_type": "markdown",
   "metadata": {},
   "source": [
    "* .reshape를 사용한 전치행렬 만들기"
   ]
  },
  {
   "cell_type": "code",
   "execution_count": 64,
   "metadata": {},
   "outputs": [
    {
     "data": {
      "text/plain": [
       "array([1, 2, 3, 4, 5, 6])"
      ]
     },
     "execution_count": 64,
     "metadata": {},
     "output_type": "execute_result"
    }
   ],
   "source": [
    "data = np.array([1,2,3,4,5,6])\n",
    "data"
   ]
  },
  {
   "cell_type": "code",
   "execution_count": 65,
   "metadata": {},
   "outputs": [
    {
     "data": {
      "text/plain": [
       "array([[1, 2, 3],\n",
       "       [4, 5, 6]])"
      ]
     },
     "execution_count": 65,
     "metadata": {},
     "output_type": "execute_result"
    }
   ],
   "source": [
    "data.reshape(2,3)"
   ]
  },
  {
   "cell_type": "code",
   "execution_count": 67,
   "metadata": {},
   "outputs": [
    {
     "data": {
      "text/plain": [
       "array([[1, 2],\n",
       "       [3, 4],\n",
       "       [5, 6]])"
      ]
     },
     "execution_count": 67,
     "metadata": {},
     "output_type": "execute_result"
    }
   ],
   "source": [
    "data.reshape(3, 2)"
   ]
  },
  {
   "cell_type": "markdown",
   "metadata": {},
   "source": [
    "![image10](https://numpy.org/doc/stable/_images/np_reshape.png)"
   ]
  },
  {
   "cell_type": "markdown",
   "metadata": {},
   "source": [
    "* transpose() 함수를 사용해 전치행렬 만들기"
   ]
  },
  {
   "cell_type": "code",
   "execution_count": 68,
   "metadata": {},
   "outputs": [
    {
     "data": {
      "text/plain": [
       "array([[0, 1, 2],\n",
       "       [3, 4, 5]])"
      ]
     },
     "execution_count": 68,
     "metadata": {},
     "output_type": "execute_result"
    }
   ],
   "source": [
    "arr = np.arange(6).reshape((2, 3))\n",
    "arr"
   ]
  },
  {
   "cell_type": "code",
   "execution_count": 69,
   "metadata": {},
   "outputs": [
    {
     "data": {
      "text/plain": [
       "array([[0, 3],\n",
       "       [1, 4],\n",
       "       [2, 5]])"
      ]
     },
     "execution_count": 69,
     "metadata": {},
     "output_type": "execute_result"
    }
   ],
   "source": [
    "arr.transpose()"
   ]
  },
  {
   "cell_type": "code",
   "execution_count": 70,
   "metadata": {},
   "outputs": [
    {
     "data": {
      "text/plain": [
       "array([[0, 3],\n",
       "       [1, 4],\n",
       "       [2, 5]])"
      ]
     },
     "execution_count": 70,
     "metadata": {},
     "output_type": "execute_result"
    }
   ],
   "source": [
    "arr.T"
   ]
  },
  {
   "cell_type": "markdown",
   "metadata": {},
   "source": [
    "### (2)  행렬의 앞 ->뒤, 뒤 -> 앞으로 순서를 바꿀 때\n",
    "* np.flip()"
   ]
  },
  {
   "cell_type": "code",
   "execution_count": 73,
   "metadata": {},
   "outputs": [
    {
     "data": {
      "text/plain": [
       "array([1, 2, 3, 4, 5, 6, 7, 8])"
      ]
     },
     "execution_count": 73,
     "metadata": {},
     "output_type": "execute_result"
    }
   ],
   "source": [
    "arr = np.array([1, 2, 3, 4, 5, 6, 7, 8])\n",
    "arr"
   ]
  },
  {
   "cell_type": "code",
   "execution_count": 74,
   "metadata": {},
   "outputs": [
    {
     "data": {
      "text/plain": [
       "array([8, 7, 6, 5, 4, 3, 2, 1])"
      ]
     },
     "execution_count": 74,
     "metadata": {},
     "output_type": "execute_result"
    }
   ],
   "source": [
    "reversed_arr = np.flip(arr)\n",
    "reversed_arr"
   ]
  },
  {
   "cell_type": "markdown",
   "metadata": {},
   "source": [
    "* 2차원 행렬을 역전 시킬 때"
   ]
  },
  {
   "cell_type": "code",
   "execution_count": 85,
   "metadata": {},
   "outputs": [
    {
     "data": {
      "text/plain": [
       "array([[ 1,  2,  3,  4],\n",
       "       [ 5,  6,  7,  8],\n",
       "       [ 9, 10, 11, 12]])"
      ]
     },
     "execution_count": 85,
     "metadata": {},
     "output_type": "execute_result"
    }
   ],
   "source": [
    "arr_2d = np.array([[1, 2, 3, 4], [5, 6, 7, 8], [9, 10, 11, 12]])\n",
    "arr_2d"
   ]
  },
  {
   "cell_type": "code",
   "execution_count": 86,
   "metadata": {},
   "outputs": [
    {
     "data": {
      "text/plain": [
       "array([[12, 11, 10,  9],\n",
       "       [ 8,  7,  6,  5],\n",
       "       [ 4,  3,  2,  1]])"
      ]
     },
     "execution_count": 86,
     "metadata": {},
     "output_type": "execute_result"
    }
   ],
   "source": [
    "reversed_arr = np.flip(arr_2d)\n",
    "reversed_arr"
   ]
  },
  {
   "cell_type": "markdown",
   "metadata": {},
   "source": [
    "* 행의 순서만 역전시킬 때 np.flip(행렬, axis=0)"
   ]
  },
  {
   "cell_type": "code",
   "execution_count": 87,
   "metadata": {},
   "outputs": [
    {
     "data": {
      "text/plain": [
       "array([[ 9, 10, 11, 12],\n",
       "       [ 5,  6,  7,  8],\n",
       "       [ 1,  2,  3,  4]])"
      ]
     },
     "execution_count": 87,
     "metadata": {},
     "output_type": "execute_result"
    }
   ],
   "source": [
    "reversed_arr_rows = np.flip(arr_2d, axis=0)\n",
    "reversed_arr_rows"
   ]
  },
  {
   "cell_type": "markdown",
   "metadata": {},
   "source": [
    "* 열의 순서만 역전시킬 때 np.flip(행렬, axis=1)"
   ]
  },
  {
   "cell_type": "code",
   "execution_count": 88,
   "metadata": {
    "scrolled": true
   },
   "outputs": [
    {
     "data": {
      "text/plain": [
       "array([[ 4,  3,  2,  1],\n",
       "       [ 8,  7,  6,  5],\n",
       "       [12, 11, 10,  9]])"
      ]
     },
     "execution_count": 88,
     "metadata": {},
     "output_type": "execute_result"
    }
   ],
   "source": [
    "reversed_arr_cols = np.flip(arr_2d, axis=1)\n",
    "reversed_arr_cols"
   ]
  },
  {
   "cell_type": "markdown",
   "metadata": {},
   "source": [
    "* 인덱싱을 사용하여 특정 행만 역전 시킬 수 있다."
   ]
  },
  {
   "cell_type": "code",
   "execution_count": 92,
   "metadata": {},
   "outputs": [
    {
     "data": {
      "text/plain": [
       "array([[ 1,  2,  3,  4],\n",
       "       [ 5,  6,  7,  8],\n",
       "       [ 9, 10, 11, 12]])"
      ]
     },
     "execution_count": 92,
     "metadata": {},
     "output_type": "execute_result"
    }
   ],
   "source": [
    "arr_2d"
   ]
  },
  {
   "cell_type": "code",
   "execution_count": 93,
   "metadata": {},
   "outputs": [
    {
     "data": {
      "text/plain": [
       "array([[ 1,  2,  3,  4],\n",
       "       [ 8,  7,  6,  5],\n",
       "       [ 9, 10, 11, 12]])"
      ]
     },
     "execution_count": 93,
     "metadata": {},
     "output_type": "execute_result"
    }
   ],
   "source": [
    "# arr_2d의 인덱스 1번 행의 벡터만 역전\n",
    "arr_2d[1] = np.flip(arr_2d[1])\n",
    "arr_2d"
   ]
  },
  {
   "cell_type": "code",
   "execution_count": 94,
   "metadata": {},
   "outputs": [
    {
     "data": {
      "text/plain": [
       "array([[ 1, 10,  3,  4],\n",
       "       [ 8,  7,  6,  5],\n",
       "       [ 9,  2, 11, 12]])"
      ]
     },
     "execution_count": 94,
     "metadata": {},
     "output_type": "execute_result"
    }
   ],
   "source": [
    "# arr_2d의 1번째 컬럼의 데이터만 역전\n",
    "arr_2d[:,1] = np.flip(arr_2d[:,1])\n",
    "arr_2d"
   ]
  },
  {
   "cell_type": "markdown",
   "metadata": {},
   "source": [
    "## 16) 다차원 배열의 구조 변경 및 평탄화\n",
    "* .flatten(), ravel()"
   ]
  },
  {
   "cell_type": "code",
   "execution_count": 96,
   "metadata": {},
   "outputs": [
    {
     "data": {
      "text/plain": [
       "array([[ 1,  2,  3,  4],\n",
       "       [ 5,  6,  7,  8],\n",
       "       [ 9, 10, 11, 12]])"
      ]
     },
     "execution_count": 96,
     "metadata": {},
     "output_type": "execute_result"
    }
   ],
   "source": [
    "x = np.array([[1 , 2, 3, 4], [5, 6, 7, 8], [9, 10, 11, 12]])\n",
    "x"
   ]
  },
  {
   "cell_type": "code",
   "execution_count": 99,
   "metadata": {},
   "outputs": [
    {
     "data": {
      "text/plain": [
       "(3, 4)"
      ]
     },
     "execution_count": 99,
     "metadata": {},
     "output_type": "execute_result"
    }
   ],
   "source": [
    "x.shape"
   ]
  },
  {
   "cell_type": "markdown",
   "metadata": {},
   "source": [
    "* .flatten() 으로 다차원 배열을 1차원 벡터로 만들기"
   ]
  },
  {
   "cell_type": "code",
   "execution_count": 97,
   "metadata": {},
   "outputs": [
    {
     "data": {
      "text/plain": [
       "array([ 1,  2,  3,  4,  5,  6,  7,  8,  9, 10, 11, 12])"
      ]
     },
     "execution_count": 97,
     "metadata": {},
     "output_type": "execute_result"
    }
   ],
   "source": [
    "x.flatten()"
   ]
  },
  {
   "cell_type": "code",
   "execution_count": 116,
   "metadata": {},
   "outputs": [
    {
     "data": {
      "text/plain": [
       "array([[[ 1,  2,  3,  4],\n",
       "        [ 5,  6,  7,  8],\n",
       "        [ 9, 10, 11, 12]],\n",
       "\n",
       "       [[ 1,  2,  3,  4],\n",
       "        [ 5,  6,  7,  8],\n",
       "        [ 9, 10, 11, 12]]])"
      ]
     },
     "execution_count": 116,
     "metadata": {},
     "output_type": "execute_result"
    }
   ],
   "source": [
    "x = np.array([[[1 , 2, 3, 4], [5, 6, 7, 8], [9, 10, 11, 12]], [[1 , 2, 3, 4], [5, 6, 7, 8], [9, 10, 11, 12]]])\n",
    "x"
   ]
  },
  {
   "cell_type": "code",
   "execution_count": 117,
   "metadata": {},
   "outputs": [
    {
     "data": {
      "text/plain": [
       "(2, 3, 4)"
      ]
     },
     "execution_count": 117,
     "metadata": {},
     "output_type": "execute_result"
    }
   ],
   "source": [
    "x.shape"
   ]
  },
  {
   "cell_type": "code",
   "execution_count": 118,
   "metadata": {},
   "outputs": [
    {
     "data": {
      "text/plain": [
       "array([ 1,  2,  3,  4,  5,  6,  7,  8,  9, 10, 11, 12,  1,  2,  3,  4,  5,\n",
       "        6,  7,  8,  9, 10, 11, 12])"
      ]
     },
     "execution_count": 118,
     "metadata": {},
     "output_type": "execute_result"
    }
   ],
   "source": [
    "x.flatten()"
   ]
  },
  {
   "cell_type": "code",
   "execution_count": 119,
   "metadata": {},
   "outputs": [
    {
     "data": {
      "text/plain": [
       "array([[[ 1,  2,  3,  4],\n",
       "        [ 5,  6,  7,  8],\n",
       "        [ 9, 10, 11, 12]],\n",
       "\n",
       "       [[ 1,  2,  3,  4],\n",
       "        [ 5,  6,  7,  8],\n",
       "        [ 9, 10, 11, 12]]])"
      ]
     },
     "execution_count": 119,
     "metadata": {},
     "output_type": "execute_result"
    }
   ],
   "source": [
    "x"
   ]
  },
  {
   "cell_type": "markdown",
   "metadata": {},
   "source": [
    "* .flatten()을 사용해 벡터로 변환된 데이터는 원본 행렬에 영향을 미치지 않는다."
   ]
  },
  {
   "cell_type": "code",
   "execution_count": 120,
   "metadata": {},
   "outputs": [
    {
     "data": {
      "text/plain": [
       "array([[[ 1,  2,  3,  4],\n",
       "        [ 5,  6,  7,  8],\n",
       "        [ 9, 10, 11, 12]],\n",
       "\n",
       "       [[ 1,  2,  3,  4],\n",
       "        [ 5,  6,  7,  8],\n",
       "        [ 9, 10, 11, 12]]])"
      ]
     },
     "execution_count": 120,
     "metadata": {},
     "output_type": "execute_result"
    }
   ],
   "source": [
    "x"
   ]
  },
  {
   "cell_type": "code",
   "execution_count": 121,
   "metadata": {},
   "outputs": [
    {
     "data": {
      "text/plain": [
       "array([99,  2,  3,  4,  5,  6,  7,  8,  9, 10, 11, 12,  1,  2,  3,  4,  5,\n",
       "        6,  7,  8,  9, 10, 11, 12])"
      ]
     },
     "execution_count": 121,
     "metadata": {},
     "output_type": "execute_result"
    }
   ],
   "source": [
    "a1 = x.flatten()\n",
    "a1[0] = 99\n",
    "a1"
   ]
  },
  {
   "cell_type": "code",
   "execution_count": 123,
   "metadata": {},
   "outputs": [
    {
     "data": {
      "text/plain": [
       "array([[[ 1,  2,  3,  4],\n",
       "        [ 5,  6,  7,  8],\n",
       "        [ 9, 10, 11, 12]],\n",
       "\n",
       "       [[ 1,  2,  3,  4],\n",
       "        [ 5,  6,  7,  8],\n",
       "        [ 9, 10, 11, 12]]])"
      ]
     },
     "execution_count": 123,
     "metadata": {},
     "output_type": "execute_result"
    }
   ],
   "source": [
    "# x의 값은 변함이 없음\n",
    "x"
   ]
  },
  {
   "cell_type": "markdown",
   "metadata": {},
   "source": [
    "* reshape으로 1차원 벡터로 만든 후 a2에 저장 후 0번째 값을 바꾸면\n",
    "* 원본인 x의 값도 변한다."
   ]
  },
  {
   "cell_type": "code",
   "execution_count": 124,
   "metadata": {
    "scrolled": true
   },
   "outputs": [
    {
     "data": {
      "text/plain": [
       "array([ 1,  2,  3,  4,  5,  6,  7,  8,  9, 10, 11, 12,  1,  2,  3,  4,  5,\n",
       "        6,  7,  8,  9, 10, 11, 12])"
      ]
     },
     "execution_count": 124,
     "metadata": {},
     "output_type": "execute_result"
    }
   ],
   "source": [
    "x.reshape(24,)"
   ]
  },
  {
   "cell_type": "code",
   "execution_count": 126,
   "metadata": {},
   "outputs": [
    {
     "data": {
      "text/plain": [
       "array([99,  2,  3,  4,  5,  6,  7,  8,  9, 10, 11, 12,  1,  2,  3,  4,  5,\n",
       "        6,  7,  8,  9, 10, 11, 12])"
      ]
     },
     "execution_count": 126,
     "metadata": {},
     "output_type": "execute_result"
    }
   ],
   "source": [
    "a2 = x.reshape(24,)\n",
    "a2[0] = 99\n",
    "a2"
   ]
  },
  {
   "cell_type": "code",
   "execution_count": 127,
   "metadata": {},
   "outputs": [
    {
     "data": {
      "text/plain": [
       "array([[[99,  2,  3,  4],\n",
       "        [ 5,  6,  7,  8],\n",
       "        [ 9, 10, 11, 12]],\n",
       "\n",
       "       [[ 1,  2,  3,  4],\n",
       "        [ 5,  6,  7,  8],\n",
       "        [ 9, 10, 11, 12]]])"
      ]
     },
     "execution_count": 127,
     "metadata": {},
     "output_type": "execute_result"
    }
   ],
   "source": [
    "x"
   ]
  },
  {
   "cell_type": "markdown",
   "metadata": {},
   "source": [
    "* .flatten()과 같은 역할을 하는 ravel()의 경우에도 원본 x의 값이 변함"
   ]
  },
  {
   "cell_type": "code",
   "execution_count": 128,
   "metadata": {},
   "outputs": [
    {
     "data": {
      "text/plain": [
       "array([[[ 1,  2,  3,  4],\n",
       "        [ 5,  6,  7,  8],\n",
       "        [ 9, 10, 11, 12]],\n",
       "\n",
       "       [[ 1,  2,  3,  4],\n",
       "        [ 5,  6,  7,  8],\n",
       "        [ 9, 10, 11, 12]]])"
      ]
     },
     "execution_count": 128,
     "metadata": {},
     "output_type": "execute_result"
    }
   ],
   "source": [
    "x = np.array([[[1 , 2, 3, 4], [5, 6, 7, 8], [9, 10, 11, 12]], [[1 , 2, 3, 4], [5, 6, 7, 8], [9, 10, 11, 12]]])\n",
    "x"
   ]
  },
  {
   "cell_type": "code",
   "execution_count": 130,
   "metadata": {},
   "outputs": [
    {
     "data": {
      "text/plain": [
       "array([98,  2,  3,  4,  5,  6,  7,  8,  9, 10, 11, 12,  1,  2,  3,  4,  5,\n",
       "        6,  7,  8,  9, 10, 11, 12])"
      ]
     },
     "execution_count": 130,
     "metadata": {},
     "output_type": "execute_result"
    }
   ],
   "source": [
    "a3 = x.ravel()\n",
    "a3[0] = 98\n",
    "a3"
   ]
  },
  {
   "cell_type": "code",
   "execution_count": 131,
   "metadata": {},
   "outputs": [
    {
     "data": {
      "text/plain": [
       "array([[[98,  2,  3,  4],\n",
       "        [ 5,  6,  7,  8],\n",
       "        [ 9, 10, 11, 12]],\n",
       "\n",
       "       [[ 1,  2,  3,  4],\n",
       "        [ 5,  6,  7,  8],\n",
       "        [ 9, 10, 11, 12]]])"
      ]
     },
     "execution_count": 131,
     "metadata": {},
     "output_type": "execute_result"
    }
   ],
   "source": [
    "x"
   ]
  },
  {
   "cell_type": "markdown",
   "metadata": {},
   "source": [
    "## 17) 넘파이에서 파일 읽어오고 저장하기\n",
    "* np.save, np.savez, np.savetxt, np.load, np.loadtxt\n",
    "* 넘파이의 배열을 저장하는 파일 = .npy, .npz\n",
    "* np.save =  .npy 파일로 저장 (1개의 ndarray)\n",
    "* np.savez = .npz 파일로 저장 (2개 이상의 ndarray)\n",
    "* np.savetxt = .csv 파일로 저장\n",
    "* np.load = .npy, .npz 파일을 읽어올 때\n",
    "* np.loadtxt = csv, txt 파일을 읽어올 때"
   ]
  },
  {
   "cell_type": "code",
   "execution_count": 133,
   "metadata": {},
   "outputs": [],
   "source": [
    "a = np.array([1, 2, 3, 4, 5, 6])"
   ]
  },
  {
   "cell_type": "markdown",
   "metadata": {},
   "source": [
    "* np.save('파일이름', a)"
   ]
  },
  {
   "cell_type": "code",
   "execution_count": 134,
   "metadata": {},
   "outputs": [],
   "source": [
    "np.save('npsavefile', a)"
   ]
  },
  {
   "cell_type": "code",
   "execution_count": 135,
   "metadata": {},
   "outputs": [
    {
     "data": {
      "text/plain": [
       "array([1, 2, 3, 4, 5, 6])"
      ]
     },
     "execution_count": 135,
     "metadata": {},
     "output_type": "execute_result"
    }
   ],
   "source": [
    "b = np.load('npsavefile.npy')\n",
    "b"
   ]
  },
  {
   "cell_type": "code",
   "execution_count": 136,
   "metadata": {},
   "outputs": [],
   "source": [
    "csv_arr = np.array([1, 2, 3, 4, 5, 6, 7, 8])"
   ]
  },
  {
   "cell_type": "code",
   "execution_count": 137,
   "metadata": {},
   "outputs": [],
   "source": [
    "np.savetxt('npsavecsv.csv', csv_arr)"
   ]
  },
  {
   "cell_type": "code",
   "execution_count": 138,
   "metadata": {},
   "outputs": [
    {
     "data": {
      "text/plain": [
       "array([1., 2., 3., 4., 5., 6., 7., 8.])"
      ]
     },
     "execution_count": 138,
     "metadata": {},
     "output_type": "execute_result"
    }
   ],
   "source": [
    "np.loadtxt('npsavecsv.csv')"
   ]
  },
  {
   "cell_type": "code",
   "execution_count": null,
   "metadata": {},
   "outputs": [],
   "source": []
  }
 ],
 "metadata": {
  "colab": {
   "collapsed_sections": [],
   "name": "03-1넘파이를활용한고객데이터처리방법.ipynb",
   "provenance": []
  },
  "kernelspec": {
   "display_name": "Python 3 (ipykernel)",
   "language": "python",
   "name": "python3"
  },
  "language_info": {
   "codemirror_mode": {
    "name": "ipython",
    "version": 3
   },
   "file_extension": ".py",
   "mimetype": "text/x-python",
   "name": "python",
   "nbconvert_exporter": "python",
   "pygments_lexer": "ipython3",
   "version": "3.9.12"
  }
 },
 "nbformat": 4,
 "nbformat_minor": 1
}
